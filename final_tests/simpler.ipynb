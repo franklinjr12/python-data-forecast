{
 "cells": [
  {
   "cell_type": "code",
   "execution_count": 6,
   "metadata": {},
   "outputs": [
    {
     "data": {
      "text/plain": [
       "<matplotlib.collections.PathCollection at 0x24208ff7070>"
      ]
     },
     "execution_count": 6,
     "metadata": {},
     "output_type": "execute_result"
    },
    {
     "data": {
      "image/png": "[encoded data removed]",
      "text/plain": [
       "<Figure size 432x288 with 1 Axes>"
      ]
     },
     "metadata": {
      "needs_background": "light"
     },
     "output_type": "display_data"
    }
   ],
   "source": [
    "# Import Relevant libraries\n",
    "import tensorflow as tf\n",
    "import numpy as np\n",
    "import matplotlib.pyplot as plt\n",
    "\n",
    "# Learning rate\n",
    "learning_rate = 0.01\n",
    "\n",
    "# Number of loops for training through all your data to update the parameters\n",
    "training_epochs = 100\n",
    "\n",
    "# the training dataset\n",
    "x_train = np.linspace(0, 10, 100)\n",
    "y_train = x_train + np.random.normal(0,1,100)\n",
    "\n",
    "# plot of data\n",
    "plt.scatter(x_train, y_train)"
   ]
  },
  {
   "cell_type": "code",
   "execution_count": 9,
   "metadata": {},
   "outputs": [
    {
     "name": "stdout",
     "output_type": "stream",
     "text": [
      "Epoch count 0: Loss value: 35.26717758178711\n",
      "Epoch count 1: Loss value: 4.522545337677002\n",
      "Epoch count 2: Loss value: 1.4729712009429932\n",
      "Epoch count 3: Loss value: 1.1702271699905396\n",
      "Epoch count 4: Loss value: 1.1399198770523071\n",
      "Epoch count 5: Loss value: 1.1366360187530518\n",
      "Epoch count 6: Loss value: 1.1360349655151367\n",
      "Epoch count 7: Loss value: 1.1357027292251587\n",
      "Epoch count 8: Loss value: 1.1353999376296997\n",
      "Epoch count 9: Loss value: 1.1351027488708496\n",
      "Epoch count 10: Loss value: 1.1348086595535278\n",
      "Epoch count 11: Loss value: 1.1345176696777344\n",
      "Epoch count 12: Loss value: 1.1342294216156006\n",
      "Epoch count 13: Loss value: 1.133944034576416\n",
      "Epoch count 14: Loss value: 1.1336615085601807\n",
      "Epoch count 15: Loss value: 1.1333818435668945\n",
      "Epoch count 16: Loss value: 1.133104920387268\n",
      "Epoch count 17: Loss value: 1.1328306198120117\n",
      "Epoch count 18: Loss value: 1.1325591802597046\n",
      "Epoch count 19: Loss value: 1.1322903633117676\n",
      "Epoch count 20: Loss value: 1.1320242881774902\n",
      "Epoch count 21: Loss value: 1.131760835647583\n",
      "Epoch count 22: Loss value: 1.1314998865127563\n",
      "Epoch count 23: Loss value: 1.1312415599822998\n",
      "Epoch count 24: Loss value: 1.1309857368469238\n",
      "Epoch count 25: Loss value: 1.130732536315918\n",
      "Epoch count 26: Loss value: 1.1304818391799927\n",
      "Epoch count 27: Loss value: 1.130233645439148\n",
      "Epoch count 28: Loss value: 1.1299878358840942\n",
      "Epoch count 29: Loss value: 1.1297444105148315\n",
      "Epoch count 30: Loss value: 1.1295037269592285\n",
      "Epoch count 31: Loss value: 1.1292649507522583\n",
      "Epoch count 32: Loss value: 1.1290289163589478\n",
      "Epoch count 33: Loss value: 1.1287950277328491\n",
      "Epoch count 34: Loss value: 1.128563404083252\n",
      "Epoch count 35: Loss value: 1.1283342838287354\n",
      "Epoch count 36: Loss value: 1.1281073093414307\n",
      "Epoch count 37: Loss value: 1.1278825998306274\n",
      "Epoch count 38: Loss value: 1.1276600360870361\n",
      "Epoch count 39: Loss value: 1.1274398565292358\n",
      "Epoch count 40: Loss value: 1.127221703529358\n",
      "Epoch count 41: Loss value: 1.127005696296692\n",
      "Epoch count 42: Loss value: 1.1267919540405273\n",
      "Epoch count 43: Loss value: 1.1265803575515747\n",
      "Epoch count 44: Loss value: 1.126370906829834\n",
      "Epoch count 45: Loss value: 1.126163125038147\n",
      "Epoch count 46: Loss value: 1.1259576082229614\n",
      "Epoch count 47: Loss value: 1.1257543563842773\n",
      "Epoch count 48: Loss value: 1.125552773475647\n",
      "Epoch count 49: Loss value: 1.1253533363342285\n",
      "Epoch count 50: Loss value: 1.125156044960022\n",
      "Epoch count 51: Loss value: 1.1249603033065796\n",
      "Epoch count 52: Loss value: 1.1247669458389282\n",
      "Epoch count 53: Loss value: 1.1245752573013306\n",
      "Epoch count 54: Loss value: 1.1243855953216553\n",
      "Epoch count 55: Loss value: 1.1241977214813232\n",
      "Epoch count 56: Loss value: 1.1240118741989136\n",
      "Epoch count 57: Loss value: 1.1238276958465576\n",
      "Epoch count 58: Loss value: 1.123645305633545\n",
      "Epoch count 59: Loss value: 1.1234647035598755\n",
      "Epoch count 60: Loss value: 1.1232858896255493\n",
      "Epoch count 61: Loss value: 1.1231091022491455\n",
      "Epoch count 62: Loss value: 1.1229338645935059\n",
      "Epoch count 63: Loss value: 1.12276029586792\n",
      "Epoch count 64: Loss value: 1.1225886344909668\n",
      "Epoch count 65: Loss value: 1.1224186420440674\n",
      "Epoch count 66: Loss value: 1.1222500801086426\n",
      "Epoch count 67: Loss value: 1.1220834255218506\n",
      "Epoch count 68: Loss value: 1.1219182014465332\n",
      "Epoch count 69: Loss value: 1.1217550039291382\n",
      "Epoch count 70: Loss value: 1.1215931177139282\n",
      "Epoch count 71: Loss value: 1.121432900428772\n",
      "Epoch count 72: Loss value: 1.1212743520736694\n",
      "Epoch count 73: Loss value: 1.1211172342300415\n",
      "Epoch count 74: Loss value: 1.1209616661071777\n",
      "Epoch count 75: Loss value: 1.1208077669143677\n",
      "Epoch count 76: Loss value: 1.1206555366516113\n",
      "Epoch count 77: Loss value: 1.1205044984817505\n",
      "Epoch count 78: Loss value: 1.1203551292419434\n",
      "Epoch count 79: Loss value: 1.1202071905136108\n",
      "Epoch count 80: Loss value: 1.120060682296753\n",
      "Epoch count 81: Loss value: 1.1199156045913696\n",
      "Epoch count 82: Loss value: 1.1197720766067505\n",
      "Epoch count 83: Loss value: 1.1196298599243164\n",
      "Epoch count 84: Loss value: 1.119489073753357\n",
      "Epoch count 85: Loss value: 1.119349718093872\n",
      "Epoch count 86: Loss value: 1.1192116737365723\n",
      "Epoch count 87: Loss value: 1.1190751791000366\n",
      "Epoch count 88: Loss value: 1.1189398765563965\n",
      "Epoch count 89: Loss value: 1.1188058853149414\n",
      "Epoch count 90: Loss value: 1.1186732053756714\n",
      "Epoch count 91: Loss value: 1.1185420751571655\n",
      "Epoch count 92: Loss value: 1.1184120178222656\n",
      "Epoch count 93: Loss value: 1.1182833909988403\n",
      "Epoch count 94: Loss value: 1.1181559562683105\n",
      "Epoch count 95: Loss value: 1.1180298328399658\n",
      "Epoch count 96: Loss value: 1.1179049015045166\n",
      "Epoch count 97: Loss value: 1.1177812814712524\n",
      "Epoch count 98: Loss value: 1.1176587343215942\n",
      "Epoch count 99: Loss value: 1.117537498474121\n"
     ]
    }
   ],
   "source": [
    "# declare weights\n",
    "weight = tf.Variable(0.)\n",
    "bias = tf.Variable(0.)\n",
    "\n",
    "# Define linear regression expression y\n",
    "def linreg(x):\n",
    "    y = weight*x + bias\n",
    "    return y\n",
    "\n",
    "# Define loss function (MSE)\n",
    "def squared_error(y_pred, y_true):\n",
    "    return tf.reduce_mean(tf.square(y_pred - y_true))\n",
    "\n",
    "# train model\n",
    "for epoch in range(training_epochs):\n",
    "    # Compute loss within Gradient Tape context\n",
    "    with tf.GradientTape() as tape:\n",
    "        y_predicted = linreg(x_train)\n",
    "        loss = squared_error(y_predicted, y_train)\n",
    "        # Get gradients\n",
    "        gradients = tape.gradient(loss, [weight,bias])\n",
    "        # Adjust weights\n",
    "        weight.assign_sub(gradients[0]*learning_rate)\n",
    "        bias.assign_sub(gradients[1]*learning_rate)\n",
    "        # Print output\n",
    "        print(f\"Epoch count {epoch}: Loss value: {loss.numpy()}\")\n"
   ]
  },
  {
   "cell_type": "code",
   "execution_count": 11,
   "metadata": {},
   "outputs": [
    {
     "name": "stdout",
     "output_type": "stream",
     "text": [
      "1.0081726\n",
      "0.008203392\n"
     ]
    },
    {
     "data": {
      "image/png": "[encoded data removed]",
      "text/plain": [
       "<Figure size 432x288 with 1 Axes>"
      ]
     },
     "metadata": {
      "needs_background": "light"
     },
     "output_type": "display_data"
    }
   ],
   "source": [
    "print(weight.numpy())\n",
    "print(bias.numpy())\n",
    "plt.scatter(x_train, y_train)\n",
    "plt.plot(x_train, linreg(x_train), 'r')\n",
    "plt.show()"
   ]
  }
 ],
 "metadata": {
  "interpreter": {
   "hash": "63fd5069d213b44bf678585dea6b12cceca9941eaf7f819626cde1f2670de90d"
  },
  "kernelspec": {
   "display_name": "Python 3.9.0 64-bit",
   "language": "python",
   "name": "python3"
  },
  "language_info": {
   "codemirror_mode": {
    "name": "ipython",
    "version": 3
   },
   "file_extension": ".py",
   "mimetype": "text/x-python",
   "name": "python",
   "nbconvert_exporter": "python",
   "pygments_lexer": "ipython3",
   "version": "3.9.0"
  },
  "orig_nbformat": 4
 },
 "nbformat": 4,
 "nbformat_minor": 2
}
