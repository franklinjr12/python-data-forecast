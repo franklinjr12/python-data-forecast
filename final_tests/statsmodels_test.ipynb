{
 "cells": [
  {
   "cell_type": "markdown",
   "metadata": {},
   "source": [
    "# Exemplo de regressão linear com Statsmodels"
   ]
  },
  {
   "cell_type": "code",
   "execution_count": 1,
   "metadata": {},
   "outputs": [
    {
     "data": {
      "text/html": [
       "<div>\n",
       "<style scoped>\n",
       "    .dataframe tbody tr th:only-of-type {\n",
       "        vertical-align: middle;\n",
       "    }\n",
       "\n",
       "    .dataframe tbody tr th {\n",
       "        vertical-align: top;\n",
       "    }\n",
       "\n",
       "    .dataframe thead th {\n",
       "        text-align: right;\n",
       "    }\n",
       "</style>\n",
       "<table border=\"1\" class=\"dataframe\">\n",
       "  <thead>\n",
       "    <tr style=\"text-align: right;\">\n",
       "      <th></th>\n",
       "      <th>Hours</th>\n",
       "      <th>Model</th>\n",
       "      <th>Aplication</th>\n",
       "      <th>Age</th>\n",
       "    </tr>\n",
       "  </thead>\n",
       "  <tbody>\n",
       "    <tr>\n",
       "      <th>0</th>\n",
       "      <td>461</td>\n",
       "      <td>111</td>\n",
       "      <td>71</td>\n",
       "      <td>11</td>\n",
       "    </tr>\n",
       "    <tr>\n",
       "      <th>1</th>\n",
       "      <td>277</td>\n",
       "      <td>90</td>\n",
       "      <td>39</td>\n",
       "      <td>10</td>\n",
       "    </tr>\n",
       "    <tr>\n",
       "      <th>2</th>\n",
       "      <td>905</td>\n",
       "      <td>87</td>\n",
       "      <td>35</td>\n",
       "      <td>10</td>\n",
       "    </tr>\n",
       "    <tr>\n",
       "      <th>3</th>\n",
       "      <td>437</td>\n",
       "      <td>87</td>\n",
       "      <td>72</td>\n",
       "      <td>10</td>\n",
       "    </tr>\n",
       "    <tr>\n",
       "      <th>4</th>\n",
       "      <td>311</td>\n",
       "      <td>90</td>\n",
       "      <td>35</td>\n",
       "      <td>10</td>\n",
       "    </tr>\n",
       "  </tbody>\n",
       "</table>\n",
       "</div>"
      ],
      "text/plain": [
       "   Hours  Model  Aplication  Age\n",
       "0    461    111          71   11\n",
       "1    277     90          39   10\n",
       "2    905     87          35   10\n",
       "3    437     87          72   10\n",
       "4    311     90          35   10"
      ]
     },
     "execution_count": 1,
     "metadata": {},
     "output_type": "execute_result"
    }
   ],
   "source": [
    "import pandas as pd\n",
    "from statsmodels.formula.api import ols\n",
    "import seaborn as sns\n",
    "import matplotlib.pyplot as plt\n",
    "import numpy as np\n",
    "\n",
    "df = pd.read_csv(\"heavymachine_data.csv\", sep=\";\")\n",
    "output_colum = \"Hours\"\n",
    "input_colums = [\"Model\",\"Aplication\",\"Age\"]\n",
    "#retira coluna inutil\n",
    "df.drop(\"Chassi\", axis=\"columns\", inplace=True)\n",
    "#retira dados ruidosos\n",
    "hours = df[\"Hours\"]\n",
    "std = hours.std()\n",
    "mean = hours.mean()\n",
    "df.drop(hours[hours > mean+std].index, inplace=True)\n",
    "df_dummys = pd.get_dummies(df, columns=[\"Aplication\", \"Model\"])\n",
    "train_dataset = df.sample(frac=0.7,random_state=0)\n",
    "test_dataset = df.drop(train_dataset.index)\n",
    "train_ds_dummys = df_dummys.sample(frac=0.7,random_state=0)\n",
    "test_ds_dummys = df_dummys.drop(train_dataset.index)\n",
    "df.head()"
   ]
  },
  {
   "cell_type": "markdown",
   "metadata": {},
   "source": [
    "# Relações entre as entradas e a saida"
   ]
  },
  {
   "cell_type": "code",
   "execution_count": 4,
   "metadata": {},
   "outputs": [
    {
     "data": {
      "text/plain": [
       "array([[<AxesSubplot:title={'center':'Age'}>]], dtype=object)"
      ]
     },
     "execution_count": 4,
     "metadata": {},
     "output_type": "execute_result"
    },
    {
     "data": {
      "image/png": "[encoded data removed]",
      "text/plain": [
       "<Figure size 432x288 with 1 Axes>"
      ]
     },
     "metadata": {
      "needs_background": "light"
     },
     "output_type": "display_data"
    }
   ],
   "source": [
    "# df.plot.scatter(\"Age\", \"Hours\")\n",
    "df.hist(\"Age\")"
   ]
  },
  {
   "cell_type": "code",
   "execution_count": 6,
   "metadata": {},
   "outputs": [
    {
     "data": {
      "text/plain": [
       "array([[<AxesSubplot:title={'center':'Model'}>]], dtype=object)"
      ]
     },
     "execution_count": 6,
     "metadata": {},
     "output_type": "execute_result"
    },
    {
     "data": {
      "image/png": "[encoded data removed]",
      "text/plain": [
       "<Figure size 432x288 with 1 Axes>"
      ]
     },
     "metadata": {
      "needs_background": "light"
     },
     "output_type": "display_data"
    }
   ],
   "source": [
    "# df.plot.scatter(\"Model\", \"Hours\")\n",
    "df.hist(\"Model\")"
   ]
  },
  {
   "cell_type": "code",
   "execution_count": 7,
   "metadata": {},
   "outputs": [
    {
     "data": {
      "text/plain": [
       "array([[<AxesSubplot:title={'center':'Aplication'}>]], dtype=object)"
      ]
     },
     "execution_count": 7,
     "metadata": {},
     "output_type": "execute_result"
    },
    {
     "data": {
      "image/png": "[encoded data removed]",
      "text/plain": [
       "<Figure size 432x288 with 1 Axes>"
      ]
     },
     "metadata": {
      "needs_background": "light"
     },
     "output_type": "display_data"
    }
   ],
   "source": [
    "# df.plot.scatter(\"Aplication\", \"Hours\")\n",
    "df.hist(\"Aplication\")"
   ]
  },
  {
   "cell_type": "code",
   "execution_count": 5,
   "metadata": {},
   "outputs": [
    {
     "data": {
      "text/plain": [
       "<AxesSubplot:>"
      ]
     },
     "execution_count": 5,
     "metadata": {},
     "output_type": "execute_result"
    },
    {
     "data": {
      "image/png": "[encoded data removed]",
      "text/plain": [
       "<Figure size 432x288 with 2 Axes>"
      ]
     },
     "metadata": {
      "needs_background": "light"
     },
     "output_type": "display_data"
    }
   ],
   "source": [
    "sns.heatmap(df.corr())"
   ]
  },
  {
   "cell_type": "markdown",
   "metadata": {},
   "source": [
    "# O modelo"
   ]
  },
  {
   "cell_type": "markdown",
   "metadata": {},
   "source": [
    "## Não categórico"
   ]
  },
  {
   "cell_type": "code",
   "execution_count": 5,
   "metadata": {},
   "outputs": [
    {
     "data": {
      "text/html": [
       "<table class=\"simpletable\">\n",
       "<caption>OLS Regression Results</caption>\n",
       "<tr>\n",
       "  <th>Dep. Variable:</th>          <td>Hours</td>      <th>  R-squared:         </th> <td>   0.182</td> \n",
       "</tr>\n",
       "<tr>\n",
       "  <th>Model:</th>                   <td>OLS</td>       <th>  Adj. R-squared:    </th> <td>   0.179</td> \n",
       "</tr>\n",
       "<tr>\n",
       "  <th>Method:</th>             <td>Least Squares</td>  <th>  F-statistic:       </th> <td>   58.94</td> \n",
       "</tr>\n",
       "<tr>\n",
       "  <th>Date:</th>             <td>Sat, 04 Dec 2021</td> <th>  Prob (F-statistic):</th> <td>2.06e-34</td> \n",
       "</tr>\n",
       "<tr>\n",
       "  <th>Time:</th>                 <td>09:42:27</td>     <th>  Log-Likelihood:    </th> <td> -7428.8</td> \n",
       "</tr>\n",
       "<tr>\n",
       "  <th>No. Observations:</th>      <td>   800</td>      <th>  AIC:               </th> <td>1.487e+04</td>\n",
       "</tr>\n",
       "<tr>\n",
       "  <th>Df Residuals:</th>          <td>   796</td>      <th>  BIC:               </th> <td>1.488e+04</td>\n",
       "</tr>\n",
       "<tr>\n",
       "  <th>Df Model:</th>              <td>     3</td>      <th>                     </th>     <td> </td>    \n",
       "</tr>\n",
       "<tr>\n",
       "  <th>Covariance Type:</th>      <td>nonrobust</td>    <th>                     </th>     <td> </td>    \n",
       "</tr>\n",
       "</table>\n",
       "<table class=\"simpletable\">\n",
       "<tr>\n",
       "       <td></td>         <th>coef</th>     <th>std err</th>      <th>t</th>      <th>P>|t|</th>  <th>[0.025</th>    <th>0.975]</th>  \n",
       "</tr>\n",
       "<tr>\n",
       "  <th>Intercept</th>  <td> 1152.7725</td> <td>  283.809</td> <td>    4.062</td> <td> 0.000</td> <td>  595.669</td> <td> 1709.876</td>\n",
       "</tr>\n",
       "<tr>\n",
       "  <th>Age</th>        <td>  243.2449</td> <td>   18.379</td> <td>   13.235</td> <td> 0.000</td> <td>  207.169</td> <td>  279.321</td>\n",
       "</tr>\n",
       "<tr>\n",
       "  <th>Aplication</th> <td>   -3.9010</td> <td>    3.945</td> <td>   -0.989</td> <td> 0.323</td> <td>  -11.645</td> <td>    3.843</td>\n",
       "</tr>\n",
       "<tr>\n",
       "  <th>Model</th>      <td>   -0.0415</td> <td>    2.258</td> <td>   -0.018</td> <td> 0.985</td> <td>   -4.473</td> <td>    4.390</td>\n",
       "</tr>\n",
       "</table>\n",
       "<table class=\"simpletable\">\n",
       "<tr>\n",
       "  <th>Omnibus:</th>       <td>690.031</td> <th>  Durbin-Watson:     </th> <td>   1.941</td> \n",
       "</tr>\n",
       "<tr>\n",
       "  <th>Prob(Omnibus):</th> <td> 0.000</td>  <th>  Jarque-Bera (JB):  </th> <td>20587.445</td>\n",
       "</tr>\n",
       "<tr>\n",
       "  <th>Skew:</th>          <td> 3.807</td>  <th>  Prob(JB):          </th> <td>    0.00</td> \n",
       "</tr>\n",
       "<tr>\n",
       "  <th>Kurtosis:</th>      <td>26.657</td>  <th>  Cond. No.          </th> <td>    289.</td> \n",
       "</tr>\n",
       "</table><br/><br/>Notes:<br/>[1] Standard Errors assume that the covariance matrix of the errors is correctly specified."
      ],
      "text/plain": [
       "<class 'statsmodels.iolib.summary.Summary'>\n",
       "\"\"\"\n",
       "                            OLS Regression Results                            \n",
       "==============================================================================\n",
       "Dep. Variable:                  Hours   R-squared:                       0.182\n",
       "Model:                            OLS   Adj. R-squared:                  0.179\n",
       "Method:                 Least Squares   F-statistic:                     58.94\n",
       "Date:                Sat, 04 Dec 2021   Prob (F-statistic):           2.06e-34\n",
       "Time:                        09:42:27   Log-Likelihood:                -7428.8\n",
       "No. Observations:                 800   AIC:                         1.487e+04\n",
       "Df Residuals:                     796   BIC:                         1.488e+04\n",
       "Df Model:                           3                                         \n",
       "Covariance Type:            nonrobust                                         \n",
       "==============================================================================\n",
       "                 coef    std err          t      P>|t|      [0.025      0.975]\n",
       "------------------------------------------------------------------------------\n",
       "Intercept   1152.7725    283.809      4.062      0.000     595.669    1709.876\n",
       "Age          243.2449     18.379     13.235      0.000     207.169     279.321\n",
       "Aplication    -3.9010      3.945     -0.989      0.323     -11.645       3.843\n",
       "Model         -0.0415      2.258     -0.018      0.985      -4.473       4.390\n",
       "==============================================================================\n",
       "Omnibus:                      690.031   Durbin-Watson:                   1.941\n",
       "Prob(Omnibus):                  0.000   Jarque-Bera (JB):            20587.445\n",
       "Skew:                           3.807   Prob(JB):                         0.00\n",
       "Kurtosis:                      26.657   Cond. No.                         289.\n",
       "==============================================================================\n",
       "\n",
       "Notes:\n",
       "[1] Standard Errors assume that the covariance matrix of the errors is correctly specified.\n",
       "\"\"\""
      ]
     },
     "execution_count": 5,
     "metadata": {},
     "output_type": "execute_result"
    }
   ],
   "source": [
    "# model = ols(\"Hours ~ Age + C(Aplication) + C(Model)\", data=train_dataset)\n",
    "model = ols(\"Hours ~ Age + Aplication + Model\", data=train_dataset)\n",
    "response = model.fit()\n",
    "response.summary()"
   ]
  },
  {
   "cell_type": "markdown",
   "metadata": {},
   "source": [
    "## Categórico (um pouco ruim de ler devido as muitas colunas categóricas)"
   ]
  },
  {
   "cell_type": "code",
   "execution_count": 6,
   "metadata": {},
   "outputs": [
    {
     "data": {
      "text/html": [
       "<table class=\"simpletable\">\n",
       "<caption>OLS Regression Results</caption>\n",
       "<tr>\n",
       "  <th>Dep. Variable:</th>          <td>Hours</td>      <th>  R-squared:         </th> <td>   0.616</td> \n",
       "</tr>\n",
       "<tr>\n",
       "  <th>Model:</th>                   <td>OLS</td>       <th>  Adj. R-squared:    </th> <td>   0.548</td> \n",
       "</tr>\n",
       "<tr>\n",
       "  <th>Method:</th>             <td>Least Squares</td>  <th>  F-statistic:       </th> <td>   8.997</td> \n",
       "</tr>\n",
       "<tr>\n",
       "  <th>Date:</th>             <td>Sat, 04 Dec 2021</td> <th>  Prob (F-statistic):</th> <td>1.75e-82</td> \n",
       "</tr>\n",
       "<tr>\n",
       "  <th>Time:</th>                 <td>09:42:52</td>     <th>  Log-Likelihood:    </th> <td> -7126.0</td> \n",
       "</tr>\n",
       "<tr>\n",
       "  <th>No. Observations:</th>      <td>   800</td>      <th>  AIC:               </th> <td>1.450e+04</td>\n",
       "</tr>\n",
       "<tr>\n",
       "  <th>Df Residuals:</th>          <td>   678</td>      <th>  BIC:               </th> <td>1.507e+04</td>\n",
       "</tr>\n",
       "<tr>\n",
       "  <th>Df Model:</th>              <td>   121</td>      <th>                     </th>     <td> </td>    \n",
       "</tr>\n",
       "<tr>\n",
       "  <th>Covariance Type:</th>      <td>nonrobust</td>    <th>                     </th>     <td> </td>    \n",
       "</tr>\n",
       "</table>\n",
       "<table class=\"simpletable\">\n",
       "<tr>\n",
       "        <td></td>           <th>coef</th>     <th>std err</th>      <th>t</th>      <th>P>|t|</th>  <th>[0.025</th>    <th>0.975]</th>  \n",
       "</tr>\n",
       "<tr>\n",
       "  <th>Intercept</th>     <td>  899.7047</td> <td>  250.161</td> <td>    3.597</td> <td> 0.000</td> <td>  408.521</td> <td> 1390.888</td>\n",
       "</tr>\n",
       "<tr>\n",
       "  <th>Age</th>           <td>  277.3685</td> <td>   15.925</td> <td>   17.417</td> <td> 0.000</td> <td>  246.101</td> <td>  308.636</td>\n",
       "</tr>\n",
       "<tr>\n",
       "  <th>Aplication_0</th>  <td> -121.5478</td> <td>  621.221</td> <td>   -0.196</td> <td> 0.845</td> <td>-1341.297</td> <td> 1098.201</td>\n",
       "</tr>\n",
       "<tr>\n",
       "  <th>Aplication_1</th>  <td> -134.0460</td> <td>  701.368</td> <td>   -0.191</td> <td> 0.848</td> <td>-1511.160</td> <td> 1243.067</td>\n",
       "</tr>\n",
       "<tr>\n",
       "  <th>Aplication_2</th>  <td>  255.1754</td> <td>  734.772</td> <td>    0.347</td> <td> 0.728</td> <td>-1187.528</td> <td> 1697.878</td>\n",
       "</tr>\n",
       "<tr>\n",
       "  <th>Aplication_3</th>  <td>  704.1974</td> <td>  800.366</td> <td>    0.880</td> <td> 0.379</td> <td> -867.297</td> <td> 2275.692</td>\n",
       "</tr>\n",
       "<tr>\n",
       "  <th>Aplication_4</th>  <td>-1137.8076</td> <td>  528.475</td> <td>   -2.153</td> <td> 0.032</td> <td>-2175.451</td> <td> -100.164</td>\n",
       "</tr>\n",
       "<tr>\n",
       "  <th>Aplication_5</th>  <td> 2317.4083</td> <td>  805.455</td> <td>    2.877</td> <td> 0.004</td> <td>  735.922</td> <td> 3898.894</td>\n",
       "</tr>\n",
       "<tr>\n",
       "  <th>Aplication_6</th>  <td> 1889.6664</td> <td>  645.632</td> <td>    2.927</td> <td> 0.004</td> <td>  621.989</td> <td> 3157.344</td>\n",
       "</tr>\n",
       "<tr>\n",
       "  <th>Aplication_7</th>  <td> -259.6862</td> <td>  570.690</td> <td>   -0.455</td> <td> 0.649</td> <td>-1380.219</td> <td>  860.847</td>\n",
       "</tr>\n",
       "<tr>\n",
       "  <th>Aplication_8</th>  <td> 1046.8082</td> <td>  705.994</td> <td>    1.483</td> <td> 0.139</td> <td> -339.390</td> <td> 2433.006</td>\n",
       "</tr>\n",
       "<tr>\n",
       "  <th>Aplication_9</th>  <td>  785.5104</td> <td>  480.979</td> <td>    1.633</td> <td> 0.103</td> <td> -158.876</td> <td> 1729.897</td>\n",
       "</tr>\n",
       "<tr>\n",
       "  <th>Aplication_11</th> <td>  172.2081</td> <td> 1119.649</td> <td>    0.154</td> <td> 0.878</td> <td>-2026.187</td> <td> 2370.604</td>\n",
       "</tr>\n",
       "<tr>\n",
       "  <th>Aplication_12</th> <td> 2069.2744</td> <td>  619.285</td> <td>    3.341</td> <td> 0.001</td> <td>  853.327</td> <td> 3285.222</td>\n",
       "</tr>\n",
       "<tr>\n",
       "  <th>Aplication_13</th> <td>  224.4657</td> <td> 1369.163</td> <td>    0.164</td> <td> 0.870</td> <td>-2463.844</td> <td> 2912.775</td>\n",
       "</tr>\n",
       "<tr>\n",
       "  <th>Aplication_14</th> <td>  747.0941</td> <td>  539.073</td> <td>    1.386</td> <td> 0.166</td> <td> -311.360</td> <td> 1805.548</td>\n",
       "</tr>\n",
       "<tr>\n",
       "  <th>Aplication_15</th> <td>  878.7249</td> <td>  444.868</td> <td>    1.975</td> <td> 0.049</td> <td>    5.240</td> <td> 1752.210</td>\n",
       "</tr>\n",
       "<tr>\n",
       "  <th>Aplication_16</th> <td> -738.8871</td> <td>  608.210</td> <td>   -1.215</td> <td> 0.225</td> <td>-1933.089</td> <td>  455.314</td>\n",
       "</tr>\n",
       "<tr>\n",
       "  <th>Aplication_17</th> <td>  163.3508</td> <td>  975.197</td> <td>    0.168</td> <td> 0.867</td> <td>-1751.419</td> <td> 2078.120</td>\n",
       "</tr>\n",
       "<tr>\n",
       "  <th>Aplication_18</th> <td> -718.4647</td> <td>  442.730</td> <td>   -1.623</td> <td> 0.105</td> <td>-1587.751</td> <td>  150.821</td>\n",
       "</tr>\n",
       "<tr>\n",
       "  <th>Aplication_19</th> <td> -986.7832</td> <td>  470.980</td> <td>   -2.095</td> <td> 0.037</td> <td>-1911.538</td> <td>  -62.028</td>\n",
       "</tr>\n",
       "<tr>\n",
       "  <th>Aplication_20</th> <td> -858.6833</td> <td>  953.138</td> <td>   -0.901</td> <td> 0.368</td> <td>-2730.141</td> <td> 1012.774</td>\n",
       "</tr>\n",
       "<tr>\n",
       "  <th>Aplication_21</th> <td>-1263.4087</td> <td>  975.006</td> <td>   -1.296</td> <td> 0.195</td> <td>-3177.803</td> <td>  650.986</td>\n",
       "</tr>\n",
       "<tr>\n",
       "  <th>Aplication_22</th> <td>  110.1566</td> <td>  800.139</td> <td>    0.138</td> <td> 0.891</td> <td>-1460.892</td> <td> 1681.205</td>\n",
       "</tr>\n",
       "<tr>\n",
       "  <th>Aplication_23</th> <td> -852.4125</td> <td> 1929.324</td> <td>   -0.442</td> <td> 0.659</td> <td>-4640.580</td> <td> 2935.755</td>\n",
       "</tr>\n",
       "<tr>\n",
       "  <th>Aplication_24</th> <td>  579.0573</td> <td> 1377.461</td> <td>    0.420</td> <td> 0.674</td> <td>-2125.544</td> <td> 3283.658</td>\n",
       "</tr>\n",
       "<tr>\n",
       "  <th>Aplication_25</th> <td>  113.5076</td> <td>  657.090</td> <td>    0.173</td> <td> 0.863</td> <td>-1176.668</td> <td> 1403.683</td>\n",
       "</tr>\n",
       "<tr>\n",
       "  <th>Aplication_26</th> <td>  777.7397</td> <td>  795.721</td> <td>    0.977</td> <td> 0.329</td> <td> -784.634</td> <td> 2340.113</td>\n",
       "</tr>\n",
       "<tr>\n",
       "  <th>Aplication_27</th> <td> -2.01e-12</td> <td> 1.77e-12</td> <td>   -1.138</td> <td> 0.256</td> <td>-5.48e-12</td> <td> 1.46e-12</td>\n",
       "</tr>\n",
       "<tr>\n",
       "  <th>Aplication_28</th> <td> -169.9258</td> <td>  796.602</td> <td>   -0.213</td> <td> 0.831</td> <td>-1734.030</td> <td> 1394.178</td>\n",
       "</tr>\n",
       "<tr>\n",
       "  <th>Aplication_29</th> <td> -471.8640</td> <td>  511.418</td> <td>   -0.923</td> <td> 0.357</td> <td>-1476.018</td> <td>  532.290</td>\n",
       "</tr>\n",
       "<tr>\n",
       "  <th>Aplication_30</th> <td> -489.1563</td> <td>  796.610</td> <td>   -0.614</td> <td> 0.539</td> <td>-2053.276</td> <td> 1074.964</td>\n",
       "</tr>\n",
       "<tr>\n",
       "  <th>Aplication_31</th> <td>  -74.5321</td> <td>  519.723</td> <td>   -0.143</td> <td> 0.886</td> <td>-1094.993</td> <td>  945.929</td>\n",
       "</tr>\n",
       "<tr>\n",
       "  <th>Aplication_32</th> <td>  814.3774</td> <td>  560.597</td> <td>    1.453</td> <td> 0.147</td> <td> -286.338</td> <td> 1915.093</td>\n",
       "</tr>\n",
       "<tr>\n",
       "  <th>Aplication_33</th> <td> 1007.6505</td> <td>  661.004</td> <td>    1.524</td> <td> 0.128</td> <td> -290.211</td> <td> 2305.512</td>\n",
       "</tr>\n",
       "<tr>\n",
       "  <th>Aplication_34</th> <td>-2235.4626</td> <td>  707.176</td> <td>   -3.161</td> <td> 0.002</td> <td>-3623.982</td> <td> -846.944</td>\n",
       "</tr>\n",
       "<tr>\n",
       "  <th>Aplication_35</th> <td>-1038.7836</td> <td>  681.263</td> <td>   -1.525</td> <td> 0.128</td> <td>-2376.423</td> <td>  298.856</td>\n",
       "</tr>\n",
       "<tr>\n",
       "  <th>Aplication_36</th> <td>  200.3378</td> <td>  697.362</td> <td>    0.287</td> <td> 0.774</td> <td>-1168.911</td> <td> 1569.587</td>\n",
       "</tr>\n",
       "<tr>\n",
       "  <th>Aplication_37</th> <td>-1065.3339</td> <td> 1941.191</td> <td>   -0.549</td> <td> 0.583</td> <td>-4876.803</td> <td> 2746.135</td>\n",
       "</tr>\n",
       "<tr>\n",
       "  <th>Aplication_38</th> <td>  514.2408</td> <td>  649.706</td> <td>    0.791</td> <td> 0.429</td> <td> -761.436</td> <td> 1789.918</td>\n",
       "</tr>\n",
       "<tr>\n",
       "  <th>Aplication_39</th> <td> -623.4054</td> <td>  505.177</td> <td>   -1.234</td> <td> 0.218</td> <td>-1615.306</td> <td>  368.495</td>\n",
       "</tr>\n",
       "<tr>\n",
       "  <th>Aplication_40</th> <td>  588.6557</td> <td>  615.008</td> <td>    0.957</td> <td> 0.339</td> <td> -618.894</td> <td> 1796.206</td>\n",
       "</tr>\n",
       "<tr>\n",
       "  <th>Aplication_41</th> <td> -932.0189</td> <td>  572.657</td> <td>   -1.628</td> <td> 0.104</td> <td>-2056.413</td> <td>  192.375</td>\n",
       "</tr>\n",
       "<tr>\n",
       "  <th>Aplication_42</th> <td> 1254.1667</td> <td>  730.069</td> <td>    1.718</td> <td> 0.086</td> <td> -179.301</td> <td> 2687.635</td>\n",
       "</tr>\n",
       "<tr>\n",
       "  <th>Aplication_43</th> <td> 2352.8371</td> <td>  803.158</td> <td>    2.929</td> <td> 0.004</td> <td>  775.862</td> <td> 3929.812</td>\n",
       "</tr>\n",
       "<tr>\n",
       "  <th>Aplication_44</th> <td>  539.8394</td> <td>  744.569</td> <td>    0.725</td> <td> 0.469</td> <td> -922.098</td> <td> 2001.777</td>\n",
       "</tr>\n",
       "<tr>\n",
       "  <th>Aplication_45</th> <td> -209.2886</td> <td>  643.498</td> <td>   -0.325</td> <td> 0.745</td> <td>-1472.776</td> <td> 1054.199</td>\n",
       "</tr>\n",
       "<tr>\n",
       "  <th>Aplication_46</th> <td>  296.8670</td> <td>  759.923</td> <td>    0.391</td> <td> 0.696</td> <td>-1195.219</td> <td> 1788.953</td>\n",
       "</tr>\n",
       "<tr>\n",
       "  <th>Aplication_47</th> <td>  631.4048</td> <td>  808.740</td> <td>    0.781</td> <td> 0.435</td> <td> -956.531</td> <td> 2219.340</td>\n",
       "</tr>\n",
       "<tr>\n",
       "  <th>Aplication_48</th> <td>  531.7195</td> <td>  633.964</td> <td>    0.839</td> <td> 0.402</td> <td> -713.050</td> <td> 1776.489</td>\n",
       "</tr>\n",
       "<tr>\n",
       "  <th>Aplication_49</th> <td> -179.3403</td> <td>  977.456</td> <td>   -0.183</td> <td> 0.854</td> <td>-2098.546</td> <td> 1739.865</td>\n",
       "</tr>\n",
       "<tr>\n",
       "  <th>Aplication_50</th> <td>  783.5612</td> <td>  745.535</td> <td>    1.051</td> <td> 0.294</td> <td> -680.274</td> <td> 2247.396</td>\n",
       "</tr>\n",
       "<tr>\n",
       "  <th>Aplication_51</th> <td>   53.7858</td> <td> 1015.643</td> <td>    0.053</td> <td> 0.958</td> <td>-1940.399</td> <td> 2047.970</td>\n",
       "</tr>\n",
       "<tr>\n",
       "  <th>Aplication_52</th> <td>  365.1757</td> <td>  808.146</td> <td>    0.452</td> <td> 0.652</td> <td>-1221.593</td> <td> 1951.945</td>\n",
       "</tr>\n",
       "<tr>\n",
       "  <th>Aplication_53</th> <td>  862.7003</td> <td>  806.334</td> <td>    1.070</td> <td> 0.285</td> <td> -720.512</td> <td> 2445.913</td>\n",
       "</tr>\n",
       "<tr>\n",
       "  <th>Aplication_54</th> <td>  524.7146</td> <td>  413.736</td> <td>    1.268</td> <td> 0.205</td> <td> -287.642</td> <td> 1337.072</td>\n",
       "</tr>\n",
       "<tr>\n",
       "  <th>Aplication_55</th> <td>-3541.1267</td> <td> 1676.892</td> <td>   -2.112</td> <td> 0.035</td> <td>-6833.652</td> <td> -248.601</td>\n",
       "</tr>\n",
       "<tr>\n",
       "  <th>Aplication_56</th> <td> -813.0260</td> <td> 1391.469</td> <td>   -0.584</td> <td> 0.559</td> <td>-3545.133</td> <td> 1919.081</td>\n",
       "</tr>\n",
       "<tr>\n",
       "  <th>Aplication_57</th> <td> -934.6765</td> <td>  665.095</td> <td>   -1.405</td> <td> 0.160</td> <td>-2240.570</td> <td>  371.217</td>\n",
       "</tr>\n",
       "<tr>\n",
       "  <th>Aplication_58</th> <td> -310.9286</td> <td>  783.190</td> <td>   -0.397</td> <td> 0.691</td> <td>-1848.697</td> <td> 1226.840</td>\n",
       "</tr>\n",
       "<tr>\n",
       "  <th>Aplication_59</th> <td>-1237.9053</td> <td>  687.263</td> <td>   -1.801</td> <td> 0.072</td> <td>-2587.325</td> <td>  111.514</td>\n",
       "</tr>\n",
       "<tr>\n",
       "  <th>Aplication_60</th> <td> -539.0491</td> <td>  518.037</td> <td>   -1.041</td> <td> 0.298</td> <td>-1556.199</td> <td>  478.101</td>\n",
       "</tr>\n",
       "<tr>\n",
       "  <th>Aplication_61</th> <td>  418.8873</td> <td>  673.604</td> <td>    0.622</td> <td> 0.534</td> <td> -903.713</td> <td> 1741.488</td>\n",
       "</tr>\n",
       "<tr>\n",
       "  <th>Aplication_62</th> <td>  363.6646</td> <td>  630.221</td> <td>    0.577</td> <td> 0.564</td> <td> -873.754</td> <td> 1601.083</td>\n",
       "</tr>\n",
       "<tr>\n",
       "  <th>Aplication_63</th> <td>  367.5476</td> <td>  571.105</td> <td>    0.644</td> <td> 0.520</td> <td> -753.799</td> <td> 1488.894</td>\n",
       "</tr>\n",
       "<tr>\n",
       "  <th>Aplication_64</th> <td> 1263.5592</td> <td>  508.182</td> <td>    2.486</td> <td> 0.013</td> <td>  265.759</td> <td> 2261.360</td>\n",
       "</tr>\n",
       "<tr>\n",
       "  <th>Aplication_65</th> <td>  -56.8997</td> <td>  834.702</td> <td>   -0.068</td> <td> 0.946</td> <td>-1695.811</td> <td> 1582.011</td>\n",
       "</tr>\n",
       "<tr>\n",
       "  <th>Aplication_66</th> <td>-1432.4047</td> <td>  660.489</td> <td>   -2.169</td> <td> 0.030</td> <td>-2729.254</td> <td> -135.555</td>\n",
       "</tr>\n",
       "<tr>\n",
       "  <th>Aplication_67</th> <td>-1222.6681</td> <td>  624.411</td> <td>   -1.958</td> <td> 0.051</td> <td>-2448.680</td> <td>    3.344</td>\n",
       "</tr>\n",
       "<tr>\n",
       "  <th>Aplication_68</th> <td>  197.6023</td> <td>  539.726</td> <td>    0.366</td> <td> 0.714</td> <td> -862.132</td> <td> 1257.337</td>\n",
       "</tr>\n",
       "<tr>\n",
       "  <th>Aplication_69</th> <td>  -70.3038</td> <td>  614.909</td> <td>   -0.114</td> <td> 0.909</td> <td>-1277.659</td> <td> 1137.051</td>\n",
       "</tr>\n",
       "<tr>\n",
       "  <th>Aplication_70</th> <td> -251.6273</td> <td>  527.063</td> <td>   -0.477</td> <td> 0.633</td> <td>-1286.500</td> <td>  783.246</td>\n",
       "</tr>\n",
       "<tr>\n",
       "  <th>Aplication_71</th> <td>-1024.6482</td> <td>  745.527</td> <td>   -1.374</td> <td> 0.170</td> <td>-2488.467</td> <td>  439.171</td>\n",
       "</tr>\n",
       "<tr>\n",
       "  <th>Aplication_72</th> <td> -140.2323</td> <td>  420.820</td> <td>   -0.333</td> <td> 0.739</td> <td> -966.499</td> <td>  686.035</td>\n",
       "</tr>\n",
       "<tr>\n",
       "  <th>Aplication_73</th> <td>-2232.3534</td> <td>  684.513</td> <td>   -3.261</td> <td> 0.001</td> <td>-3576.373</td> <td> -888.334</td>\n",
       "</tr>\n",
       "<tr>\n",
       "  <th>Aplication_74</th> <td>  380.1756</td> <td>  449.461</td> <td>    0.846</td> <td> 0.398</td> <td> -502.327</td> <td> 1262.679</td>\n",
       "</tr>\n",
       "<tr>\n",
       "  <th>Aplication_75</th> <td> 1707.6430</td> <td>  700.048</td> <td>    2.439</td> <td> 0.015</td> <td>  333.120</td> <td> 3082.166</td>\n",
       "</tr>\n",
       "<tr>\n",
       "  <th>Aplication_76</th> <td>-1305.0457</td> <td>  573.180</td> <td>   -2.277</td> <td> 0.023</td> <td>-2430.467</td> <td> -179.624</td>\n",
       "</tr>\n",
       "<tr>\n",
       "  <th>Aplication_77</th> <td> 1480.7753</td> <td>  668.813</td> <td>    2.214</td> <td> 0.027</td> <td>  167.581</td> <td> 2793.970</td>\n",
       "</tr>\n",
       "<tr>\n",
       "  <th>Aplication_78</th> <td> -221.2516</td> <td>  975.623</td> <td>   -0.227</td> <td> 0.821</td> <td>-2136.858</td> <td> 1694.355</td>\n",
       "</tr>\n",
       "<tr>\n",
       "  <th>Aplication_79</th> <td>  458.4560</td> <td> 1929.008</td> <td>    0.238</td> <td> 0.812</td> <td>-3329.092</td> <td> 4246.004</td>\n",
       "</tr>\n",
       "<tr>\n",
       "  <th>Model_0</th>       <td>-5456.3734</td> <td> 1981.566</td> <td>   -2.754</td> <td> 0.006</td> <td>-9347.117</td> <td>-1565.630</td>\n",
       "</tr>\n",
       "<tr>\n",
       "  <th>Model_1</th>       <td>-1165.5910</td> <td> 1433.748</td> <td>   -0.813</td> <td> 0.417</td> <td>-3980.712</td> <td> 1649.530</td>\n",
       "</tr>\n",
       "<tr>\n",
       "  <th>Model_2</th>       <td>-3.374e-13</td> <td> 1.06e-12</td> <td>   -0.317</td> <td> 0.751</td> <td>-2.43e-12</td> <td> 1.75e-12</td>\n",
       "</tr>\n",
       "<tr>\n",
       "  <th>Model_4</th>       <td> 1.859e-13</td> <td> 8.16e-13</td> <td>    0.228</td> <td> 0.820</td> <td>-1.42e-12</td> <td> 1.79e-12</td>\n",
       "</tr>\n",
       "<tr>\n",
       "  <th>Model_7</th>       <td> 1.336e-12</td> <td>  9.4e-13</td> <td>    1.421</td> <td> 0.156</td> <td> -5.1e-13</td> <td> 3.18e-12</td>\n",
       "</tr>\n",
       "<tr>\n",
       "  <th>Model_13</th>      <td>  896.5580</td> <td>  378.026</td> <td>    2.372</td> <td> 0.018</td> <td>  154.316</td> <td> 1638.800</td>\n",
       "</tr>\n",
       "<tr>\n",
       "  <th>Model_16</th>      <td> 8527.0989</td> <td>  594.603</td> <td>   14.341</td> <td> 0.000</td> <td> 7359.615</td> <td> 9694.583</td>\n",
       "</tr>\n",
       "<tr>\n",
       "  <th>Model_18</th>      <td>  613.6353</td> <td>  424.380</td> <td>    1.446</td> <td> 0.149</td> <td> -219.622</td> <td> 1446.892</td>\n",
       "</tr>\n",
       "<tr>\n",
       "  <th>Model_24</th>      <td>-1873.2137</td> <td>  341.238</td> <td>   -5.489</td> <td> 0.000</td> <td>-2543.223</td> <td>-1203.204</td>\n",
       "</tr>\n",
       "<tr>\n",
       "  <th>Model_26</th>      <td> -2.36e-13</td> <td> 9.05e-13</td> <td>   -0.261</td> <td> 0.794</td> <td>-2.01e-12</td> <td> 1.54e-12</td>\n",
       "</tr>\n",
       "<tr>\n",
       "  <th>Model_30</th>      <td> 3412.4650</td> <td> 1209.009</td> <td>    2.823</td> <td> 0.005</td> <td> 1038.614</td> <td> 5786.316</td>\n",
       "</tr>\n",
       "<tr>\n",
       "  <th>Model_32</th>      <td> 2107.6662</td> <td> 1631.313</td> <td>    1.292</td> <td> 0.197</td> <td>-1095.366</td> <td> 5310.699</td>\n",
       "</tr>\n",
       "<tr>\n",
       "  <th>Model_35</th>      <td>  371.6503</td> <td>  755.920</td> <td>    0.492</td> <td> 0.623</td> <td>-1112.575</td> <td> 1855.875</td>\n",
       "</tr>\n",
       "<tr>\n",
       "  <th>Model_39</th>      <td>  907.1993</td> <td>  465.236</td> <td>    1.950</td> <td> 0.052</td> <td>   -6.277</td> <td> 1820.675</td>\n",
       "</tr>\n",
       "<tr>\n",
       "  <th>Model_42</th>      <td> 3831.1106</td> <td> 2345.977</td> <td>    1.633</td> <td> 0.103</td> <td> -775.142</td> <td> 8437.363</td>\n",
       "</tr>\n",
       "<tr>\n",
       "  <th>Model_46</th>      <td> 4131.3578</td> <td> 1201.849</td> <td>    3.438</td> <td> 0.001</td> <td> 1771.564</td> <td> 6491.152</td>\n",
       "</tr>\n",
       "<tr>\n",
       "  <th>Model_48</th>      <td>-2.874e-14</td> <td> 1.11e-12</td> <td>   -0.026</td> <td> 0.979</td> <td>-2.21e-12</td> <td> 2.15e-12</td>\n",
       "</tr>\n",
       "<tr>\n",
       "  <th>Model_49</th>      <td> 3460.5350</td> <td> 1165.356</td> <td>    2.970</td> <td> 0.003</td> <td> 1172.394</td> <td> 5748.676</td>\n",
       "</tr>\n",
       "<tr>\n",
       "  <th>Model_50</th>      <td> 1303.3054</td> <td> 1450.599</td> <td>    0.898</td> <td> 0.369</td> <td>-1544.901</td> <td> 4151.511</td>\n",
       "</tr>\n",
       "<tr>\n",
       "  <th>Model_55</th>      <td>-1623.9667</td> <td> 2073.763</td> <td>   -0.783</td> <td> 0.434</td> <td>-5695.736</td> <td> 2447.802</td>\n",
       "</tr>\n",
       "<tr>\n",
       "  <th>Model_56</th>      <td>-3802.4389</td> <td> 1176.740</td> <td>   -3.231</td> <td> 0.001</td> <td>-6112.932</td> <td>-1491.946</td>\n",
       "</tr>\n",
       "<tr>\n",
       "  <th>Model_57</th>      <td>-4658.5800</td> <td> 1975.807</td> <td>   -2.358</td> <td> 0.019</td> <td>-8538.016</td> <td> -779.144</td>\n",
       "</tr>\n",
       "<tr>\n",
       "  <th>Model_58</th>      <td>-3826.4746</td> <td> 1975.360</td> <td>   -1.937</td> <td> 0.053</td> <td>-7705.033</td> <td>   52.084</td>\n",
       "</tr>\n",
       "<tr>\n",
       "  <th>Model_63</th>      <td> 1214.1187</td> <td>  701.989</td> <td>    1.730</td> <td> 0.084</td> <td> -164.214</td> <td> 2592.452</td>\n",
       "</tr>\n",
       "<tr>\n",
       "  <th>Model_66</th>      <td>-3.454e-13</td> <td> 6.01e-13</td> <td>   -0.574</td> <td> 0.566</td> <td>-1.53e-12</td> <td> 8.36e-13</td>\n",
       "</tr>\n",
       "<tr>\n",
       "  <th>Model_70</th>      <td>-2816.1568</td> <td> 1966.486</td> <td>   -1.432</td> <td> 0.153</td> <td>-6677.292</td> <td> 1044.979</td>\n",
       "</tr>\n",
       "<tr>\n",
       "  <th>Model_73</th>      <td>-1031.4664</td> <td>  786.355</td> <td>   -1.312</td> <td> 0.190</td> <td>-2575.451</td> <td>  512.518</td>\n",
       "</tr>\n",
       "<tr>\n",
       "  <th>Model_79</th>      <td>  132.3929</td> <td> 1208.852</td> <td>    0.110</td> <td> 0.913</td> <td>-2241.151</td> <td> 2505.937</td>\n",
       "</tr>\n",
       "<tr>\n",
       "  <th>Model_80</th>      <td>-2733.0298</td> <td> 1993.603</td> <td>   -1.371</td> <td> 0.171</td> <td>-6647.408</td> <td> 1181.348</td>\n",
       "</tr>\n",
       "<tr>\n",
       "  <th>Model_84</th>      <td>-2198.0149</td> <td> 1968.356</td> <td>   -1.117</td> <td> 0.265</td> <td>-6062.821</td> <td> 1666.791</td>\n",
       "</tr>\n",
       "<tr>\n",
       "  <th>Model_87</th>      <td>-1729.5418</td> <td>  630.168</td> <td>   -2.745</td> <td> 0.006</td> <td>-2966.857</td> <td> -492.226</td>\n",
       "</tr>\n",
       "<tr>\n",
       "  <th>Model_90</th>      <td>-1958.1105</td> <td>  499.324</td> <td>   -3.922</td> <td> 0.000</td> <td>-2938.518</td> <td> -977.703</td>\n",
       "</tr>\n",
       "<tr>\n",
       "  <th>Model_91</th>      <td>-2261.2727</td> <td> 1972.030</td> <td>   -1.147</td> <td> 0.252</td> <td>-6133.293</td> <td> 1610.748</td>\n",
       "</tr>\n",
       "<tr>\n",
       "  <th>Model_92</th>      <td> -214.0842</td> <td>  916.496</td> <td>   -0.234</td> <td> 0.815</td> <td>-2013.595</td> <td> 1585.427</td>\n",
       "</tr>\n",
       "<tr>\n",
       "  <th>Model_96</th>      <td>  282.2746</td> <td>  368.573</td> <td>    0.766</td> <td> 0.444</td> <td> -441.408</td> <td> 1005.957</td>\n",
       "</tr>\n",
       "<tr>\n",
       "  <th>Model_97</th>      <td> -223.6075</td> <td>  367.045</td> <td>   -0.609</td> <td> 0.543</td> <td> -944.288</td> <td>  497.073</td>\n",
       "</tr>\n",
       "<tr>\n",
       "  <th>Model_100</th>     <td> 1.837e-13</td> <td> 4.93e-13</td> <td>    0.373</td> <td> 0.709</td> <td>-7.84e-13</td> <td> 1.15e-12</td>\n",
       "</tr>\n",
       "<tr>\n",
       "  <th>Model_101</th>     <td>-1969.9587</td> <td>  438.057</td> <td>   -4.497</td> <td> 0.000</td> <td>-2830.070</td> <td>-1109.848</td>\n",
       "</tr>\n",
       "<tr>\n",
       "  <th>Model_102</th>     <td> -543.3926</td> <td> 1967.790</td> <td>   -0.276</td> <td> 0.783</td> <td>-4407.087</td> <td> 3320.301</td>\n",
       "</tr>\n",
       "<tr>\n",
       "  <th>Model_105</th>     <td> -949.4047</td> <td> 1963.599</td> <td>   -0.484</td> <td> 0.629</td> <td>-4804.870</td> <td> 2906.060</td>\n",
       "</tr>\n",
       "<tr>\n",
       "  <th>Model_106</th>     <td> 8832.9350</td> <td> 1187.213</td> <td>    7.440</td> <td> 0.000</td> <td> 6501.879</td> <td> 1.12e+04</td>\n",
       "</tr>\n",
       "<tr>\n",
       "  <th>Model_107</th>     <td> 1424.2097</td> <td>  441.976</td> <td>    3.222</td> <td> 0.001</td> <td>  556.403</td> <td> 2292.016</td>\n",
       "</tr>\n",
       "<tr>\n",
       "  <th>Model_110</th>     <td> -148.7351</td> <td> 1187.747</td> <td>   -0.125</td> <td> 0.900</td> <td>-2480.839</td> <td> 2183.369</td>\n",
       "</tr>\n",
       "<tr>\n",
       "  <th>Model_111</th>     <td>-1195.1345</td> <td>  331.248</td> <td>   -3.608</td> <td> 0.000</td> <td>-1845.530</td> <td> -544.739</td>\n",
       "</tr>\n",
       "<tr>\n",
       "  <th>Model_112</th>     <td> -291.3908</td> <td>  375.007</td> <td>   -0.777</td> <td> 0.437</td> <td>-1027.705</td> <td>  444.923</td>\n",
       "</tr>\n",
       "<tr>\n",
       "  <th>Model_113</th>     <td>  740.4470</td> <td>  623.889</td> <td>    1.187</td> <td> 0.236</td> <td> -484.539</td> <td> 1965.433</td>\n",
       "</tr>\n",
       "<tr>\n",
       "  <th>Model_115</th>     <td> -932.7087</td> <td> 1965.507</td> <td>   -0.475</td> <td> 0.635</td> <td>-4791.921</td> <td> 2926.504</td>\n",
       "</tr>\n",
       "<tr>\n",
       "  <th>Model_120</th>     <td> -370.1239</td> <td> 1987.032</td> <td>   -0.186</td> <td> 0.852</td> <td>-4271.599</td> <td> 3531.352</td>\n",
       "</tr>\n",
       "<tr>\n",
       "  <th>Model_121</th>     <td> 2723.8580</td> <td> 1995.620</td> <td>    1.365</td> <td> 0.173</td> <td>-1194.480</td> <td> 6642.196</td>\n",
       "</tr>\n",
       "<tr>\n",
       "  <th>Model_124</th>     <td>-2479.5832</td> <td> 1197.207</td> <td>   -2.071</td> <td> 0.039</td> <td>-4830.262</td> <td> -128.904</td>\n",
       "</tr>\n",
       "<tr>\n",
       "  <th>Model_125</th>     <td> 2439.2418</td> <td>  336.369</td> <td>    7.252</td> <td> 0.000</td> <td> 1778.793</td> <td> 3099.691</td>\n",
       "</tr>\n",
       "</table>\n",
       "<table class=\"simpletable\">\n",
       "<tr>\n",
       "  <th>Omnibus:</th>       <td>380.668</td> <th>  Durbin-Watson:     </th> <td>   1.939</td>\n",
       "</tr>\n",
       "<tr>\n",
       "  <th>Prob(Omnibus):</th> <td> 0.000</td>  <th>  Jarque-Bera (JB):  </th> <td>6562.065</td>\n",
       "</tr>\n",
       "<tr>\n",
       "  <th>Skew:</th>          <td> 1.713</td>  <th>  Prob(JB):          </th> <td>    0.00</td>\n",
       "</tr>\n",
       "<tr>\n",
       "  <th>Kurtosis:</th>      <td>16.606</td>  <th>  Cond. No.          </th> <td>1.27e+17</td>\n",
       "</tr>\n",
       "</table><br/><br/>Notes:<br/>[1] Standard Errors assume that the covariance matrix of the errors is correctly specified.<br/>[2] The smallest eigenvalue is 4.44e-30. This might indicate that there are<br/>strong multicollinearity problems or that the design matrix is singular."
      ],
      "text/plain": [
       "<class 'statsmodels.iolib.summary.Summary'>\n",
       "\"\"\"\n",
       "                            OLS Regression Results                            \n",
       "==============================================================================\n",
       "Dep. Variable:                  Hours   R-squared:                       0.616\n",
       "Model:                            OLS   Adj. R-squared:                  0.548\n",
       "Method:                 Least Squares   F-statistic:                     8.997\n",
       "Date:                Sat, 04 Dec 2021   Prob (F-statistic):           1.75e-82\n",
       "Time:                        09:42:52   Log-Likelihood:                -7126.0\n",
       "No. Observations:                 800   AIC:                         1.450e+04\n",
       "Df Residuals:                     678   BIC:                         1.507e+04\n",
       "Df Model:                         121                                         \n",
       "Covariance Type:            nonrobust                                         \n",
       "=================================================================================\n",
       "                    coef    std err          t      P>|t|      [0.025      0.975]\n",
       "---------------------------------------------------------------------------------\n",
       "Intercept       899.7047    250.161      3.597      0.000     408.521    1390.888\n",
       "Age             277.3685     15.925     17.417      0.000     246.101     308.636\n",
       "Aplication_0   -121.5478    621.221     -0.196      0.845   -1341.297    1098.201\n",
       "Aplication_1   -134.0460    701.368     -0.191      0.848   -1511.160    1243.067\n",
       "Aplication_2    255.1754    734.772      0.347      0.728   -1187.528    1697.878\n",
       "Aplication_3    704.1974    800.366      0.880      0.379    -867.297    2275.692\n",
       "Aplication_4  -1137.8076    528.475     -2.153      0.032   -2175.451    -100.164\n",
       "Aplication_5   2317.4083    805.455      2.877      0.004     735.922    3898.894\n",
       "Aplication_6   1889.6664    645.632      2.927      0.004     621.989    3157.344\n",
       "Aplication_7   -259.6862    570.690     -0.455      0.649   -1380.219     860.847\n",
       "Aplication_8   1046.8082    705.994      1.483      0.139    -339.390    2433.006\n",
       "Aplication_9    785.5104    480.979      1.633      0.103    -158.876    1729.897\n",
       "Aplication_11   172.2081   1119.649      0.154      0.878   -2026.187    2370.604\n",
       "Aplication_12  2069.2744    619.285      3.341      0.001     853.327    3285.222\n",
       "Aplication_13   224.4657   1369.163      0.164      0.870   -2463.844    2912.775\n",
       "Aplication_14   747.0941    539.073      1.386      0.166    -311.360    1805.548\n",
       "Aplication_15   878.7249    444.868      1.975      0.049       5.240    1752.210\n",
       "Aplication_16  -738.8871    608.210     -1.215      0.225   -1933.089     455.314\n",
       "Aplication_17   163.3508    975.197      0.168      0.867   -1751.419    2078.120\n",
       "Aplication_18  -718.4647    442.730     -1.623      0.105   -1587.751     150.821\n",
       "Aplication_19  -986.7832    470.980     -2.095      0.037   -1911.538     -62.028\n",
       "Aplication_20  -858.6833    953.138     -0.901      0.368   -2730.141    1012.774\n",
       "Aplication_21 -1263.4087    975.006     -1.296      0.195   -3177.803     650.986\n",
       "Aplication_22   110.1566    800.139      0.138      0.891   -1460.892    1681.205\n",
       "Aplication_23  -852.4125   1929.324     -0.442      0.659   -4640.580    2935.755\n",
       "Aplication_24   579.0573   1377.461      0.420      0.674   -2125.544    3283.658\n",
       "Aplication_25   113.5076    657.090      0.173      0.863   -1176.668    1403.683\n",
       "Aplication_26   777.7397    795.721      0.977      0.329    -784.634    2340.113\n",
       "Aplication_27  -2.01e-12   1.77e-12     -1.138      0.256   -5.48e-12    1.46e-12\n",
       "Aplication_28  -169.9258    796.602     -0.213      0.831   -1734.030    1394.178\n",
       "Aplication_29  -471.8640    511.418     -0.923      0.357   -1476.018     532.290\n",
       "Aplication_30  -489.1563    796.610     -0.614      0.539   -2053.276    1074.964\n",
       "Aplication_31   -74.5321    519.723     -0.143      0.886   -1094.993     945.929\n",
       "Aplication_32   814.3774    560.597      1.453      0.147    -286.338    1915.093\n",
       "Aplication_33  1007.6505    661.004      1.524      0.128    -290.211    2305.512\n",
       "Aplication_34 -2235.4626    707.176     -3.161      0.002   -3623.982    -846.944\n",
       "Aplication_35 -1038.7836    681.263     -1.525      0.128   -2376.423     298.856\n",
       "Aplication_36   200.3378    697.362      0.287      0.774   -1168.911    1569.587\n",
       "Aplication_37 -1065.3339   1941.191     -0.549      0.583   -4876.803    2746.135\n",
       "Aplication_38   514.2408    649.706      0.791      0.429    -761.436    1789.918\n",
       "Aplication_39  -623.4054    505.177     -1.234      0.218   -1615.306     368.495\n",
       "Aplication_40   588.6557    615.008      0.957      0.339    -618.894    1796.206\n",
       "Aplication_41  -932.0189    572.657     -1.628      0.104   -2056.413     192.375\n",
       "Aplication_42  1254.1667    730.069      1.718      0.086    -179.301    2687.635\n",
       "Aplication_43  2352.8371    803.158      2.929      0.004     775.862    3929.812\n",
       "Aplication_44   539.8394    744.569      0.725      0.469    -922.098    2001.777\n",
       "Aplication_45  -209.2886    643.498     -0.325      0.745   -1472.776    1054.199\n",
       "Aplication_46   296.8670    759.923      0.391      0.696   -1195.219    1788.953\n",
       "Aplication_47   631.4048    808.740      0.781      0.435    -956.531    2219.340\n",
       "Aplication_48   531.7195    633.964      0.839      0.402    -713.050    1776.489\n",
       "Aplication_49  -179.3403    977.456     -0.183      0.854   -2098.546    1739.865\n",
       "Aplication_50   783.5612    745.535      1.051      0.294    -680.274    2247.396\n",
       "Aplication_51    53.7858   1015.643      0.053      0.958   -1940.399    2047.970\n",
       "Aplication_52   365.1757    808.146      0.452      0.652   -1221.593    1951.945\n",
       "Aplication_53   862.7003    806.334      1.070      0.285    -720.512    2445.913\n",
       "Aplication_54   524.7146    413.736      1.268      0.205    -287.642    1337.072\n",
       "Aplication_55 -3541.1267   1676.892     -2.112      0.035   -6833.652    -248.601\n",
       "Aplication_56  -813.0260   1391.469     -0.584      0.559   -3545.133    1919.081\n",
       "Aplication_57  -934.6765    665.095     -1.405      0.160   -2240.570     371.217\n",
       "Aplication_58  -310.9286    783.190     -0.397      0.691   -1848.697    1226.840\n",
       "Aplication_59 -1237.9053    687.263     -1.801      0.072   -2587.325     111.514\n",
       "Aplication_60  -539.0491    518.037     -1.041      0.298   -1556.199     478.101\n",
       "Aplication_61   418.8873    673.604      0.622      0.534    -903.713    1741.488\n",
       "Aplication_62   363.6646    630.221      0.577      0.564    -873.754    1601.083\n",
       "Aplication_63   367.5476    571.105      0.644      0.520    -753.799    1488.894\n",
       "Aplication_64  1263.5592    508.182      2.486      0.013     265.759    2261.360\n",
       "Aplication_65   -56.8997    834.702     -0.068      0.946   -1695.811    1582.011\n",
       "Aplication_66 -1432.4047    660.489     -2.169      0.030   -2729.254    -135.555\n",
       "Aplication_67 -1222.6681    624.411     -1.958      0.051   -2448.680       3.344\n",
       "Aplication_68   197.6023    539.726      0.366      0.714    -862.132    1257.337\n",
       "Aplication_69   -70.3038    614.909     -0.114      0.909   -1277.659    1137.051\n",
       "Aplication_70  -251.6273    527.063     -0.477      0.633   -1286.500     783.246\n",
       "Aplication_71 -1024.6482    745.527     -1.374      0.170   -2488.467     439.171\n",
       "Aplication_72  -140.2323    420.820     -0.333      0.739    -966.499     686.035\n",
       "Aplication_73 -2232.3534    684.513     -3.261      0.001   -3576.373    -888.334\n",
       "Aplication_74   380.1756    449.461      0.846      0.398    -502.327    1262.679\n",
       "Aplication_75  1707.6430    700.048      2.439      0.015     333.120    3082.166\n",
       "Aplication_76 -1305.0457    573.180     -2.277      0.023   -2430.467    -179.624\n",
       "Aplication_77  1480.7753    668.813      2.214      0.027     167.581    2793.970\n",
       "Aplication_78  -221.2516    975.623     -0.227      0.821   -2136.858    1694.355\n",
       "Aplication_79   458.4560   1929.008      0.238      0.812   -3329.092    4246.004\n",
       "Model_0       -5456.3734   1981.566     -2.754      0.006   -9347.117   -1565.630\n",
       "Model_1       -1165.5910   1433.748     -0.813      0.417   -3980.712    1649.530\n",
       "Model_2       -3.374e-13   1.06e-12     -0.317      0.751   -2.43e-12    1.75e-12\n",
       "Model_4        1.859e-13   8.16e-13      0.228      0.820   -1.42e-12    1.79e-12\n",
       "Model_7        1.336e-12    9.4e-13      1.421      0.156    -5.1e-13    3.18e-12\n",
       "Model_13        896.5580    378.026      2.372      0.018     154.316    1638.800\n",
       "Model_16       8527.0989    594.603     14.341      0.000    7359.615    9694.583\n",
       "Model_18        613.6353    424.380      1.446      0.149    -219.622    1446.892\n",
       "Model_24      -1873.2137    341.238     -5.489      0.000   -2543.223   -1203.204\n",
       "Model_26       -2.36e-13   9.05e-13     -0.261      0.794   -2.01e-12    1.54e-12\n",
       "Model_30       3412.4650   1209.009      2.823      0.005    1038.614    5786.316\n",
       "Model_32       2107.6662   1631.313      1.292      0.197   -1095.366    5310.699\n",
       "Model_35        371.6503    755.920      0.492      0.623   -1112.575    1855.875\n",
       "Model_39        907.1993    465.236      1.950      0.052      -6.277    1820.675\n",
       "Model_42       3831.1106   2345.977      1.633      0.103    -775.142    8437.363\n",
       "Model_46       4131.3578   1201.849      3.438      0.001    1771.564    6491.152\n",
       "Model_48      -2.874e-14   1.11e-12     -0.026      0.979   -2.21e-12    2.15e-12\n",
       "Model_49       3460.5350   1165.356      2.970      0.003    1172.394    5748.676\n",
       "Model_50       1303.3054   1450.599      0.898      0.369   -1544.901    4151.511\n",
       "Model_55      -1623.9667   2073.763     -0.783      0.434   -5695.736    2447.802\n",
       "Model_56      -3802.4389   1176.740     -3.231      0.001   -6112.932   -1491.946\n",
       "Model_57      -4658.5800   1975.807     -2.358      0.019   -8538.016    -779.144\n",
       "Model_58      -3826.4746   1975.360     -1.937      0.053   -7705.033      52.084\n",
       "Model_63       1214.1187    701.989      1.730      0.084    -164.214    2592.452\n",
       "Model_66      -3.454e-13   6.01e-13     -0.574      0.566   -1.53e-12    8.36e-13\n",
       "Model_70      -2816.1568   1966.486     -1.432      0.153   -6677.292    1044.979\n",
       "Model_73      -1031.4664    786.355     -1.312      0.190   -2575.451     512.518\n",
       "Model_79        132.3929   1208.852      0.110      0.913   -2241.151    2505.937\n",
       "Model_80      -2733.0298   1993.603     -1.371      0.171   -6647.408    1181.348\n",
       "Model_84      -2198.0149   1968.356     -1.117      0.265   -6062.821    1666.791\n",
       "Model_87      -1729.5418    630.168     -2.745      0.006   -2966.857    -492.226\n",
       "Model_90      -1958.1105    499.324     -3.922      0.000   -2938.518    -977.703\n",
       "Model_91      -2261.2727   1972.030     -1.147      0.252   -6133.293    1610.748\n",
       "Model_92       -214.0842    916.496     -0.234      0.815   -2013.595    1585.427\n",
       "Model_96        282.2746    368.573      0.766      0.444    -441.408    1005.957\n",
       "Model_97       -223.6075    367.045     -0.609      0.543    -944.288     497.073\n",
       "Model_100      1.837e-13   4.93e-13      0.373      0.709   -7.84e-13    1.15e-12\n",
       "Model_101     -1969.9587    438.057     -4.497      0.000   -2830.070   -1109.848\n",
       "Model_102      -543.3926   1967.790     -0.276      0.783   -4407.087    3320.301\n",
       "Model_105      -949.4047   1963.599     -0.484      0.629   -4804.870    2906.060\n",
       "Model_106      8832.9350   1187.213      7.440      0.000    6501.879    1.12e+04\n",
       "Model_107      1424.2097    441.976      3.222      0.001     556.403    2292.016\n",
       "Model_110      -148.7351   1187.747     -0.125      0.900   -2480.839    2183.369\n",
       "Model_111     -1195.1345    331.248     -3.608      0.000   -1845.530    -544.739\n",
       "Model_112      -291.3908    375.007     -0.777      0.437   -1027.705     444.923\n",
       "Model_113       740.4470    623.889      1.187      0.236    -484.539    1965.433\n",
       "Model_115      -932.7087   1965.507     -0.475      0.635   -4791.921    2926.504\n",
       "Model_120      -370.1239   1987.032     -0.186      0.852   -4271.599    3531.352\n",
       "Model_121      2723.8580   1995.620      1.365      0.173   -1194.480    6642.196\n",
       "Model_124     -2479.5832   1197.207     -2.071      0.039   -4830.262    -128.904\n",
       "Model_125      2439.2418    336.369      7.252      0.000    1778.793    3099.691\n",
       "==============================================================================\n",
       "Omnibus:                      380.668   Durbin-Watson:                   1.939\n",
       "Prob(Omnibus):                  0.000   Jarque-Bera (JB):             6562.065\n",
       "Skew:                           1.713   Prob(JB):                         0.00\n",
       "Kurtosis:                      16.606   Cond. No.                     1.27e+17\n",
       "==============================================================================\n",
       "\n",
       "Notes:\n",
       "[1] Standard Errors assume that the covariance matrix of the errors is correctly specified.\n",
       "[2] The smallest eigenvalue is 4.44e-30. This might indicate that there are\n",
       "strong multicollinearity problems or that the design matrix is singular.\n",
       "\"\"\""
      ]
     },
     "execution_count": 6,
     "metadata": {},
     "output_type": "execute_result"
    }
   ],
   "source": [
    "columns_names = train_ds_dummys.columns.to_list()[1:]\n",
    "s = \"Hours~\"\n",
    "for i in columns_names:\n",
    "    s += i+\"+\"\n",
    "s = s[:len(s)-1]\n",
    "# print(s)\n",
    "model_categorical = ols(s, data=train_ds_dummys)\n",
    "response_categorical = model_categorical.fit()\n",
    "response_categorical.summary()"
   ]
  },
  {
   "cell_type": "markdown",
   "metadata": {},
   "source": [
    "# Validando valores"
   ]
  },
  {
   "cell_type": "markdown",
   "metadata": {},
   "source": [
    "## Mae para não categórico"
   ]
  },
  {
   "cell_type": "code",
   "execution_count": 81,
   "metadata": {},
   "outputs": [
    {
     "name": "stdout",
     "output_type": "stream",
     "text": [
      "1750.3630236649171\n"
     ]
    }
   ],
   "source": [
    "errors = []\n",
    "for i,r in test_dataset.iterrows():    \n",
    "    y_true = pd.to_numeric(r[\"Hours\"])\n",
    "    in_data = pd.DataFrame([{\"Model\": r[\"Model\"], \"Aplication\": r[\"Aplication\"], \"Age\":r[\"Age\"]}])\n",
    "    y_pred = response.predict(in_data)[0]\n",
    "    errors.append(abs(y_pred - y_true))\n",
    "mae = np.mean(errors)\n",
    "print(mae)"
   ]
  },
  {
   "cell_type": "markdown",
   "metadata": {},
   "source": [
    "## Mae para categórico"
   ]
  },
  {
   "cell_type": "code",
   "execution_count": 85,
   "metadata": {},
   "outputs": [
    {
     "name": "stdout",
     "output_type": "stream",
     "text": [
      "1510.2331646296955\n"
     ]
    }
   ],
   "source": [
    "errors = []\n",
    "for i,r in test_ds_dummys.iterrows(): \n",
    "    y_true = pd.to_numeric(r[\"Hours\"])\n",
    "    r.drop(\"Hours\", inplace=True)\n",
    "    in_data = r\n",
    "    y_pred = response_categorical.predict(in_data).values[0]\n",
    "    errors.append(abs(y_pred - y_true))\n",
    "mae = np.mean(errors)\n",
    "print(mae)"
   ]
  },
  {
   "cell_type": "markdown",
   "metadata": {},
   "source": [
    "# Prevendo valores"
   ]
  },
  {
   "cell_type": "code",
   "execution_count": 7,
   "metadata": {},
   "outputs": [
    {
     "data": {
      "image/png": "[encoded data removed]",
      "text/plain": [
       "<Figure size 432x288 with 1 Axes>"
      ]
     },
     "metadata": {
      "needs_background": "light"
     },
     "output_type": "display_data"
    }
   ],
   "source": [
    "MODEL = 90\n",
    "APLICATION = 39\n",
    "\n",
    "model = []\n",
    "age = []\n",
    "Aplication = []\n",
    "y = []\n",
    "x = []\n",
    "for i,r in df.iterrows():    \n",
    "    model.append(r[\"Model\"])\n",
    "    age.append(r[\"Age\"])\n",
    "    Aplication.append(r[\"Aplication\"])\n",
    "    x.append([r[\"Model\"], r[\"Age\"], r[\"Aplication\"]])\n",
    "    y.append(r[\"Hours\"])\n",
    "\n",
    "y_pred = []\n",
    "t = []\n",
    "samples = len(y)\n",
    "for i in range(samples):\n",
    "    entrada = pd.DataFrame([{\"Model\": MODEL, \"Aplication\": APLICATION, \"Age\":age[i]}])\n",
    "    t.append(age[i])\n",
    "    y_pred.append(response.predict(entrada)[0])\n",
    "\n",
    "plt.figure()\n",
    "plt.plot(t, y_pred, \"r\")\n",
    "plt.scatter(t, y[:samples])\n",
    "plt.show()\n"
   ]
  },
  {
   "cell_type": "markdown",
   "metadata": {},
   "source": [
    "# Comparando com os valores que tinha antes"
   ]
  },
  {
   "cell_type": "code",
   "execution_count": 8,
   "metadata": {},
   "outputs": [
    {
     "name": "stdout",
     "output_type": "stream",
     "text": [
      "    Hours  Model  Aplication  Age\n",
      "1     277     90          39   10\n",
      "97   3909     90          39    9\n"
     ]
    },
    {
     "name": "stderr",
     "output_type": "stream",
     "text": [
      "C:\\Users\\Pichau\\AppData\\Local\\Temp/ipykernel_15148/2882375223.py:2: UserWarning: Boolean Series key will be reindexed to match DataFrame index.\n",
      "  a = a[df[\"Aplication\"] == APLICATION]\n"
     ]
    },
    {
     "data": {
      "image/png": "[encoded data removed]",
      "text/plain": [
       "<Figure size 432x288 with 1 Axes>"
      ]
     },
     "metadata": {
      "needs_background": "light"
     },
     "output_type": "display_data"
    }
   ],
   "source": [
    "a = df[df[\"Model\"] == MODEL]\n",
    "a = a[df[\"Aplication\"] == APLICATION]\n",
    "print(a)\n",
    "plt.figure()\n",
    "plt.plot(t, y_pred, \"r\")\n",
    "plt.scatter(a[\"Age\"], a[\"Hours\"])\n",
    "plt.show()\n"
   ]
  },
  {
   "cell_type": "markdown",
   "metadata": {},
   "source": [
    "Select some aplications"
   ]
  },
  {
   "cell_type": "code",
   "execution_count": 11,
   "metadata": {},
   "outputs": [
    {
     "name": "stdout",
     "output_type": "stream",
     "text": [
      "[71, 39, 35, 72, 60]\n"
     ]
    }
   ],
   "source": [
    "aplications = []\n",
    "counter = 0\n",
    "limit = 5\n",
    "for i,r in df.iterrows():\n",
    "    if(counter >= limit):\n",
    "        break\n",
    "    if r[\"Aplication\"] in aplications:\n",
    "        pass\n",
    "    else:\n",
    "        counter += 1\n",
    "        # limit = counter+1\n",
    "        aplications.append(r[\"Aplication\"])\n",
    "print(aplications)\n"
   ]
  },
  {
   "cell_type": "code",
   "execution_count": 12,
   "metadata": {},
   "outputs": [
    {
     "name": "stdout",
     "output_type": "stream",
     "text": [
      "Aplication:  71\n",
      "Aplication:  39\n",
      "Aplication:  35\n",
      "Aplication:  72\n",
      "Aplication:  60\n"
     ]
    },
    {
     "data": {
      "image/png": "[encoded data removed]",
      "text/plain": [
       "<Figure size 432x288 with 1 Axes>"
      ]
     },
     "metadata": {
      "needs_background": "light"
     },
     "output_type": "display_data"
    }
   ],
   "source": [
    "plt.figure()\n",
    "for j in range(limit):\n",
    "    MODEL = 90\n",
    "    APLICATION = aplications[j]\n",
    "    y_pred = []\n",
    "    t = []\n",
    "    samples = len(y)\n",
    "    for i in range(samples):\n",
    "        entrada = pd.DataFrame([{\"Model\": MODEL, \"Aplication\": APLICATION, \"Age\":age[i]}])\n",
    "        t.append(age[i])\n",
    "        y_pred.append(response.predict(entrada)[0])\n",
    "    print(\"Aplication: \", aplications[j])    \n",
    "    plt.plot(t, y_pred)\n",
    "plt.show()"
   ]
  }
 ],
 "metadata": {
  "interpreter": {
   "hash": "63fd5069d213b44bf678585dea6b12cceca9941eaf7f819626cde1f2670de90d"
  },
  "kernelspec": {
   "display_name": "Python 3.9.0 64-bit",
   "language": "python",
   "name": "python3"
  },
  "language_info": {
   "codemirror_mode": {
    "name": "ipython",
    "version": 3
   },
   "file_extension": ".py",
   "mimetype": "text/x-python",
   "name": "python",
   "nbconvert_exporter": "python",
   "pygments_lexer": "ipython3",
   "version": "3.9.0"
  },
  "orig_nbformat": 4
 },
 "nbformat": 4,
 "nbformat_minor": 2
}
