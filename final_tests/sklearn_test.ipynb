{
 "cells": [
  {
   "cell_type": "markdown",
   "metadata": {},
   "source": [
    "# Exemplo de regressão linear com Sklearn"
   ]
  },
  {
   "cell_type": "code",
   "execution_count": 73,
   "metadata": {},
   "outputs": [
    {
     "data": {
      "text/html": [
       "<div>\n",
       "<style scoped>\n",
       "    .dataframe tbody tr th:only-of-type {\n",
       "        vertical-align: middle;\n",
       "    }\n",
       "\n",
       "    .dataframe tbody tr th {\n",
       "        vertical-align: top;\n",
       "    }\n",
       "\n",
       "    .dataframe thead th {\n",
       "        text-align: right;\n",
       "    }\n",
       "</style>\n",
       "<table border=\"1\" class=\"dataframe\">\n",
       "  <thead>\n",
       "    <tr style=\"text-align: right;\">\n",
       "      <th></th>\n",
       "      <th>Hours</th>\n",
       "      <th>Model</th>\n",
       "      <th>Aplication</th>\n",
       "      <th>Age</th>\n",
       "    </tr>\n",
       "  </thead>\n",
       "  <tbody>\n",
       "    <tr>\n",
       "      <th>0</th>\n",
       "      <td>461</td>\n",
       "      <td>111</td>\n",
       "      <td>71</td>\n",
       "      <td>11</td>\n",
       "    </tr>\n",
       "    <tr>\n",
       "      <th>1</th>\n",
       "      <td>277</td>\n",
       "      <td>90</td>\n",
       "      <td>39</td>\n",
       "      <td>10</td>\n",
       "    </tr>\n",
       "    <tr>\n",
       "      <th>2</th>\n",
       "      <td>905</td>\n",
       "      <td>87</td>\n",
       "      <td>35</td>\n",
       "      <td>10</td>\n",
       "    </tr>\n",
       "    <tr>\n",
       "      <th>3</th>\n",
       "      <td>437</td>\n",
       "      <td>87</td>\n",
       "      <td>72</td>\n",
       "      <td>10</td>\n",
       "    </tr>\n",
       "    <tr>\n",
       "      <th>4</th>\n",
       "      <td>311</td>\n",
       "      <td>90</td>\n",
       "      <td>35</td>\n",
       "      <td>10</td>\n",
       "    </tr>\n",
       "  </tbody>\n",
       "</table>\n",
       "</div>"
      ],
      "text/plain": [
       "   Hours  Model  Aplication  Age\n",
       "0    461    111          71   11\n",
       "1    277     90          39   10\n",
       "2    905     87          35   10\n",
       "3    437     87          72   10\n",
       "4    311     90          35   10"
      ]
     },
     "execution_count": 73,
     "metadata": {},
     "output_type": "execute_result"
    }
   ],
   "source": [
    "import pandas as pd\n",
    "import matplotlib.pyplot as plt \n",
    "from sklearn.linear_model import LinearRegression\n",
    "import numpy as np\n",
    "\n",
    "df = pd.read_csv(\"heavymachine_data.csv\", sep=\";\")\n",
    "output_colum = \"Hours\"\n",
    "input_colums = [\"Model\",\"Aplication\",\"Age\"]\n",
    "#retira coluna inutil\n",
    "df.drop(\"Chassi\", axis=\"columns\", inplace=True)\n",
    "#retira dados ruidosos\n",
    "hours = df[\"Hours\"]\n",
    "std = hours.std()\n",
    "mean = hours.mean()\n",
    "df.drop(hours[hours > mean+std].index, inplace=True)\n",
    "\n",
    "train_dataset = df.sample(frac=0.7,random_state=0)\n",
    "test_dataset = df.drop(train_dataset.index)\n",
    "\n",
    "df_dummys = pd.get_dummies(df, columns=[\"Aplication\", \"Model\"])\n",
    "train_ds_dummys = df_dummys.sample(frac=0.7,random_state=0)\n",
    "test_ds_dummys = df_dummys.drop(train_dataset.index)\n",
    "\n",
    "df.head()"
   ]
  },
  {
   "cell_type": "markdown",
   "metadata": {},
   "source": [
    "# O modelo"
   ]
  },
  {
   "cell_type": "markdown",
   "metadata": {},
   "source": [
    "Non categorical"
   ]
  },
  {
   "cell_type": "code",
   "execution_count": 74,
   "metadata": {},
   "outputs": [
    {
     "name": "stdout",
     "output_type": "stream",
     "text": [
      "coefficient of determination: 0.18174806937565924\n",
      "intercept: 1152.77247849005\n",
      "slope: [-4.15060080e-02  2.43244947e+02 -3.90096696e+00]\n"
     ]
    }
   ],
   "source": [
    "model = []\n",
    "age = []\n",
    "Aplication = []\n",
    "y = []\n",
    "x = []\n",
    "for i,r in train_dataset.iterrows():    \n",
    "    model.append(r[\"Model\"])\n",
    "    age.append(r[\"Age\"])\n",
    "    Aplication.append(r[\"Aplication\"])\n",
    "    x.append([r[\"Model\"], r[\"Age\"], r[\"Aplication\"]])\n",
    "    y.append(r[\"Hours\"])\n",
    "    # r.drop(\"Hours\", inplace=True)\n",
    "    # print(list(r))\n",
    "    # break\n",
    "\n",
    "# x = np.array(age).reshape(-1,1)\n",
    "# x = np.array([model, age, Aplication])\n",
    "# y = np.array(y)\n",
    "model = LinearRegression().fit(x, y)\n",
    "r_sq = model.score(x, y)\n",
    "print('coefficient of determination:', r_sq)\n",
    "# Print the Intercept:\n",
    "print('intercept:', model.intercept_)\n",
    "# Print the Slope:\n",
    "print('slope:', model.coef_) "
   ]
  },
  {
   "cell_type": "markdown",
   "metadata": {},
   "source": [
    "Categorical model"
   ]
  },
  {
   "cell_type": "code",
   "execution_count": 75,
   "metadata": {},
   "outputs": [
    {
     "name": "stdout",
     "output_type": "stream",
     "text": [
      "coefficient of determination: 0.6162099391630171\n",
      "intercept: 198322489690214.44\n",
      "slope: [ 2.77371378e+02  3.50588680e+13  3.50588680e+13  3.50588680e+13\n",
      "  3.50588680e+13  3.50588680e+13  3.50588680e+13  3.50588680e+13\n",
      "  3.50588680e+13  3.50588680e+13  3.50588680e+13  3.50588680e+13\n",
      "  3.50588680e+13  3.50588680e+13  3.50588680e+13  3.50588680e+13\n",
      "  3.50588680e+13  3.50588680e+13  3.50588680e+13  3.50588680e+13\n",
      "  3.50588680e+13  3.50588680e+13  3.50588680e+13  3.50588680e+13\n",
      "  3.50588680e+13  3.50588680e+13  3.50588680e+13  2.30996875e+12\n",
      "  3.50588680e+13  3.50588680e+13  3.50588680e+13  3.50588680e+13\n",
      "  3.50588680e+13  3.50588680e+13  3.50588680e+13  3.50588680e+13\n",
      "  3.50588680e+13  3.50588680e+13  3.50588680e+13  3.50588680e+13\n",
      "  3.50588680e+13  3.50588680e+13  3.50588680e+13  3.50588680e+13\n",
      "  3.50588680e+13  3.50588680e+13  3.50588680e+13  3.50588680e+13\n",
      "  3.50588680e+13  3.50588680e+13  3.50588680e+13  3.50588680e+13\n",
      "  3.50588680e+13  3.50588680e+13  3.50588680e+13  3.50588680e+13\n",
      "  3.50588680e+13  3.50588680e+13  3.50588680e+13  3.50588680e+13\n",
      "  3.50588680e+13  3.50588680e+13  3.50588680e+13  3.50588680e+13\n",
      "  3.50588680e+13  3.50588680e+13  3.50588680e+13  3.50588680e+13\n",
      "  3.50588680e+13  3.50588680e+13  3.50588680e+13  3.50588680e+13\n",
      "  3.50588680e+13  3.50588680e+13  3.50588680e+13  3.50588680e+13\n",
      "  3.50588680e+13  3.50588680e+13  3.50588680e+13  3.50588680e+13\n",
      " -2.33381358e+14 -2.33381358e+14 -1.17265625e+01  1.64062500e+00\n",
      " -9.37500000e-02 -2.33381358e+14 -2.33381358e+14 -2.33381358e+14\n",
      " -2.33381358e+14 -1.25000000e-01 -2.33381358e+14 -2.33381358e+14\n",
      " -2.33381358e+14 -2.33381358e+14 -2.33381358e+14 -2.33381358e+14\n",
      " -1.95312500e-03 -2.33381358e+14 -2.33381358e+14 -2.33381358e+14\n",
      " -2.33381358e+14 -2.33381358e+14 -2.33381358e+14 -2.33381358e+14\n",
      "  8.79764557e-04 -2.33381358e+14 -2.33381358e+14 -2.33381358e+14\n",
      " -2.33381358e+14 -2.33381358e+14 -2.33381358e+14 -2.33381358e+14\n",
      " -2.33381358e+14 -2.33381358e+14 -2.33381358e+14 -2.33381358e+14\n",
      " -8.62808317e-04 -2.33381358e+14 -2.33381358e+14 -2.33381358e+14\n",
      " -2.33381358e+14 -2.33381358e+14 -2.33381358e+14 -2.33381358e+14\n",
      " -2.33381358e+14 -2.33381358e+14 -2.33381358e+14 -2.33381358e+14\n",
      " -2.33381358e+14 -2.33381358e+14 -2.33381358e+14]\n"
     ]
    }
   ],
   "source": [
    "y = []\n",
    "x = []\n",
    "for i,r in train_ds_dummys.iterrows():    \n",
    "    y.append(r[\"Hours\"])\n",
    "    r.drop(\"Hours\", inplace=True)\n",
    "    x.append(list(r))\n",
    "\n",
    "# x = np.array(age).reshape(-1,1)\n",
    "# x = np.array([model, age, Aplication])\n",
    "# y = np.array(y)\n",
    "model_categorical = LinearRegression().fit(x, y)\n",
    "r_sq = model_categorical.score(x, y)\n",
    "print('coefficient of determination:', r_sq)\n",
    "# Print the Intercept:\n",
    "print('intercept:', model_categorical.intercept_)\n",
    "# Print the Slope:\n",
    "print('slope:', model_categorical.coef_) "
   ]
  },
  {
   "cell_type": "markdown",
   "metadata": {},
   "source": [
    "# Calculando MAE"
   ]
  },
  {
   "cell_type": "markdown",
   "metadata": {},
   "source": [
    "Non categorical"
   ]
  },
  {
   "cell_type": "code",
   "execution_count": 76,
   "metadata": {},
   "outputs": [
    {
     "name": "stdout",
     "output_type": "stream",
     "text": [
      "7874.829368372211\n"
     ]
    }
   ],
   "source": [
    "errors = []\n",
    "for i,r in test_dataset.iterrows():        \n",
    "    y_true = pd.to_numeric(r[\"Hours\"])\n",
    "    r.drop(\"Hours\", inplace=True)\n",
    "    in_data = np.array(list(r)).reshape(-1,r.shape[0])\n",
    "    # in_data = pd.DataFrame([{\"Model\": r[\"Model\"], \"Aplication\": r[\"Aplication\"], \"Age\":r[\"Age\"]}])\n",
    "    y_pred = model.predict(in_data)\n",
    "    errors.append(abs(y_pred - y_true))\n",
    "mae = np.mean(errors)\n",
    "print(mae)"
   ]
  },
  {
   "cell_type": "markdown",
   "metadata": {},
   "source": [
    "Categorical"
   ]
  },
  {
   "cell_type": "code",
   "execution_count": 77,
   "metadata": {},
   "outputs": [
    {
     "name": "stdout",
     "output_type": "stream",
     "text": [
      "6219186934752.236\n"
     ]
    }
   ],
   "source": [
    "errors = []\n",
    "for i,r in test_ds_dummys.iterrows():        \n",
    "    y_true = pd.to_numeric(r[\"Hours\"])\n",
    "    r.drop(\"Hours\", inplace=True)\n",
    "    in_data = np.array(list(r)).reshape(-1,r.shape[0])    \n",
    "    y_pred = model_categorical.predict(in_data)\n",
    "    errors.append(abs(y_pred - y_true))\n",
    "mae = np.mean(errors)\n",
    "print(mae)"
   ]
  },
  {
   "cell_type": "markdown",
   "metadata": {},
   "source": [
    "# Prevendo valores"
   ]
  },
  {
   "cell_type": "code",
   "execution_count": 33,
   "metadata": {},
   "outputs": [
    {
     "name": "stdout",
     "output_type": "stream",
     "text": [
      "Predicted response:\n",
      "[3628.03755149 3392.68495167 3392.68495167 ... 1509.86415316 1509.86415316\n",
      " 2215.9219526 ]\n"
     ]
    }
   ],
   "source": [
    "MODEL = 90\n",
    "APLICATION = 39\n",
    "x4 = []\n",
    "t = []\n",
    "samples = len(y)\n",
    "for i in range(samples):\n",
    "    t.append(age[i])\n",
    "    x4.append([MODEL, age[i], APLICATION])\n",
    "\n",
    "# Predict a Response and print it:\n",
    "y_pred = model.predict(x4)\n",
    "print('Predicted response:', y_pred, sep='\\n')"
   ]
  },
  {
   "cell_type": "code",
   "execution_count": 35,
   "metadata": {},
   "outputs": [
    {
     "data": {
      "image/png": "[encoded data removed]",
      "text/plain": [
       "<Figure size 432x288 with 1 Axes>"
      ]
     },
     "metadata": {
      "needs_background": "light"
     },
     "output_type": "display_data"
    }
   ],
   "source": [
    "plt.figure()\n",
    "plt.plot(t, y_pred, \"r\")\n",
    "plt.scatter(t, y[:samples])\n",
    "plt.show()"
   ]
  }
 ],
 "metadata": {
  "interpreter": {
   "hash": "63fd5069d213b44bf678585dea6b12cceca9941eaf7f819626cde1f2670de90d"
  },
  "kernelspec": {
   "display_name": "Python 3.9.0 64-bit",
   "language": "python",
   "name": "python3"
  },
  "language_info": {
   "codemirror_mode": {
    "name": "ipython",
    "version": 3
   },
   "file_extension": ".py",
   "mimetype": "text/x-python",
   "name": "python",
   "nbconvert_exporter": "python",
   "pygments_lexer": "ipython3",
   "version": "3.9.0"
  },
  "orig_nbformat": 4
 },
 "nbformat": 4,
 "nbformat_minor": 2
}
