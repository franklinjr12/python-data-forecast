{
 "cells": [
  {
   "cell_type": "markdown",
   "metadata": {},
   "source": [
    "# Regressão em árvore"
   ]
  },
  {
   "cell_type": "code",
   "execution_count": 1,
   "metadata": {},
   "outputs": [
    {
     "data": {
      "text/html": [
       "<div>\n",
       "<style scoped>\n",
       "    .dataframe tbody tr th:only-of-type {\n",
       "        vertical-align: middle;\n",
       "    }\n",
       "\n",
       "    .dataframe tbody tr th {\n",
       "        vertical-align: top;\n",
       "    }\n",
       "\n",
       "    .dataframe thead th {\n",
       "        text-align: right;\n",
       "    }\n",
       "</style>\n",
       "<table border=\"1\" class=\"dataframe\">\n",
       "  <thead>\n",
       "    <tr style=\"text-align: right;\">\n",
       "      <th></th>\n",
       "      <th>Hours</th>\n",
       "      <th>Model</th>\n",
       "      <th>Aplication</th>\n",
       "      <th>Age</th>\n",
       "    </tr>\n",
       "  </thead>\n",
       "  <tbody>\n",
       "    <tr>\n",
       "      <th>0</th>\n",
       "      <td>461</td>\n",
       "      <td>111</td>\n",
       "      <td>71</td>\n",
       "      <td>11</td>\n",
       "    </tr>\n",
       "    <tr>\n",
       "      <th>1</th>\n",
       "      <td>277</td>\n",
       "      <td>90</td>\n",
       "      <td>39</td>\n",
       "      <td>10</td>\n",
       "    </tr>\n",
       "    <tr>\n",
       "      <th>2</th>\n",
       "      <td>905</td>\n",
       "      <td>87</td>\n",
       "      <td>35</td>\n",
       "      <td>10</td>\n",
       "    </tr>\n",
       "    <tr>\n",
       "      <th>3</th>\n",
       "      <td>437</td>\n",
       "      <td>87</td>\n",
       "      <td>72</td>\n",
       "      <td>10</td>\n",
       "    </tr>\n",
       "    <tr>\n",
       "      <th>4</th>\n",
       "      <td>311</td>\n",
       "      <td>90</td>\n",
       "      <td>35</td>\n",
       "      <td>10</td>\n",
       "    </tr>\n",
       "  </tbody>\n",
       "</table>\n",
       "</div>"
      ],
      "text/plain": [
       "   Hours  Model  Aplication  Age\n",
       "0    461    111          71   11\n",
       "1    277     90          39   10\n",
       "2    905     87          35   10\n",
       "3    437     87          72   10\n",
       "4    311     90          35   10"
      ]
     },
     "execution_count": 1,
     "metadata": {},
     "output_type": "execute_result"
    }
   ],
   "source": [
    "import pandas as pd\n",
    "import matplotlib.pyplot as plt \n",
    "from sklearn.tree import DecisionTreeRegressor\n",
    "import numpy as np\n",
    "\n",
    "df = pd.read_csv(\"heavymachine_data.csv\", sep=\";\")\n",
    "output_colum = \"Hours\"\n",
    "input_colums = [\"Model\",\"Aplication\",\"Age\"]\n",
    "#retira coluna inutil\n",
    "df.drop(\"Chassi\", axis=\"columns\", inplace=True)\n",
    "#retira dados ruidosos\n",
    "hours = df[\"Hours\"]\n",
    "std = hours.std()\n",
    "mean = hours.mean()\n",
    "df.drop(hours[hours > mean+std].index, inplace=True)\n",
    "\n",
    "train_dataset = df.sample(frac=0.7,random_state=0)\n",
    "test_dataset = df.drop(train_dataset.index)\n",
    "\n",
    "df_dummys = pd.get_dummies(df, columns=[\"Aplication\", \"Model\"])\n",
    "train_ds_dummys = df_dummys.sample(frac=0.7,random_state=0)\n",
    "test_ds_dummys = df_dummys.drop(train_dataset.index)\n",
    "\n",
    "df.head()"
   ]
  },
  {
   "cell_type": "markdown",
   "metadata": {},
   "source": [
    "# O modelo"
   ]
  },
  {
   "cell_type": "markdown",
   "metadata": {},
   "source": [
    "## Não categórico"
   ]
  },
  {
   "cell_type": "code",
   "execution_count": 2,
   "metadata": {},
   "outputs": [
    {
     "name": "stdout",
     "output_type": "stream",
     "text": [
      "Score: 0.6176838954423135\n",
      "Mae: 4288.115162893786\n"
     ]
    }
   ],
   "source": [
    "model = []\n",
    "age = []\n",
    "Aplication = []\n",
    "y = []\n",
    "x = []\n",
    "for i,r in train_dataset.iterrows():    \n",
    "    model.append(r[\"Model\"])\n",
    "    age.append(r[\"Age\"])\n",
    "    Aplication.append(r[\"Aplication\"])\n",
    "    x.append([r[\"Model\"], r[\"Age\"], r[\"Aplication\"]])\n",
    "    y.append(r[\"Hours\"])\n",
    "    # r.drop(\"Hours\", inplace=True)\n",
    "    # print(list(r))\n",
    "    # break\n",
    "\n",
    "# x = np.array(age).reshape(-1,1)\n",
    "# x = np.array([model, age, Aplication])\n",
    "# y = np.array(y)\n",
    "regressor = DecisionTreeRegressor(max_depth=5)\n",
    "model = regressor.fit(x, y)\n",
    "r_sq = model.score(x, y)\n",
    "print(\"Score: {}\".format(r_sq))\n",
    "errors = []\n",
    "for i,r in test_dataset.iterrows():        \n",
    "    y_true = pd.to_numeric(r[\"Hours\"])\n",
    "    r.drop(\"Hours\", inplace=True)\n",
    "    in_data = np.array(list(r)).reshape(-1,r.shape[0])\n",
    "    # in_data = pd.DataFrame([{\"Model\": r[\"Model\"], \"Aplication\": r[\"Aplication\"], \"Age\":r[\"Age\"]}])\n",
    "    y_pred = model.predict(in_data)\n",
    "    errors.append(abs(y_pred - y_true))\n",
    "mae = np.mean(errors)\n",
    "print(\"Mae: {}\".format(mae))"
   ]
  },
  {
   "cell_type": "markdown",
   "metadata": {},
   "source": [
    "## Categórico"
   ]
  },
  {
   "cell_type": "code",
   "execution_count": 6,
   "metadata": {},
   "outputs": [
    {
     "name": "stdout",
     "output_type": "stream",
     "text": [
      "Score: 0.6176838954423135\n",
      "Mae: 1455.1826009857007\n"
     ]
    }
   ],
   "source": [
    "y = []\n",
    "x = []\n",
    "for i,r in train_ds_dummys.iterrows():    \n",
    "    y.append(r[\"Hours\"])\n",
    "    r.drop(\"Hours\", inplace=True)\n",
    "    x.append(list(r))\n",
    "\n",
    "# x = np.array(age).reshape(-1,1)\n",
    "# x = np.array([model, age, Aplication])\n",
    "# y = np.array(y)\n",
    "regressor = DecisionTreeRegressor(max_depth=5)\n",
    "model_categorical = regressor.fit(x, y)\n",
    "print(\"Score: {}\".format(r_sq))\n",
    "errors = []\n",
    "for i,r in test_ds_dummys.iterrows():        \n",
    "    y_true = pd.to_numeric(r[\"Hours\"])\n",
    "    r.drop(\"Hours\", inplace=True)\n",
    "    in_data = np.array(list(r)).reshape(-1,r.shape[0])    \n",
    "    y_pred = model_categorical.predict(in_data)\n",
    "    errors.append(abs(y_pred - y_true))\n",
    "mae = np.mean(errors)\n",
    "print(\"Mae: {}\".format(mae))\n"
   ]
  }
 ],
 "metadata": {
  "interpreter": {
   "hash": "63fd5069d213b44bf678585dea6b12cceca9941eaf7f819626cde1f2670de90d"
  },
  "kernelspec": {
   "display_name": "Python 3.9.0 64-bit",
   "language": "python",
   "name": "python3"
  },
  "language_info": {
   "codemirror_mode": {
    "name": "ipython",
    "version": 3
   },
   "file_extension": ".py",
   "mimetype": "text/x-python",
   "name": "python",
   "nbconvert_exporter": "python",
   "pygments_lexer": "ipython3",
   "version": "3.9.0"
  },
  "orig_nbformat": 4
 },
 "nbformat": 4,
 "nbformat_minor": 2
}
