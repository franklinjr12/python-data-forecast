{
 "cells": [
  {
   "cell_type": "markdown",
   "metadata": {},
   "source": [
    "# Linear regression test with age and days to recovery data."
   ]
  },
  {
   "cell_type": "code",
   "execution_count": 7,
   "metadata": {},
   "outputs": [
    {
     "data": {
      "text/html": [
       "<div>\n",
       "<style scoped>\n",
       "    .dataframe tbody tr th:only-of-type {\n",
       "        vertical-align: middle;\n",
       "    }\n",
       "\n",
       "    .dataframe tbody tr th {\n",
       "        vertical-align: top;\n",
       "    }\n",
       "\n",
       "    .dataframe thead th {\n",
       "        text-align: right;\n",
       "    }\n",
       "</style>\n",
       "<table border=\"1\" class=\"dataframe\">\n",
       "  <thead>\n",
       "    <tr style=\"text-align: right;\">\n",
       "      <th></th>\n",
       "      <th>name</th>\n",
       "      <th>age</th>\n",
       "      <th>days_recovery</th>\n",
       "    </tr>\n",
       "  </thead>\n",
       "  <tbody>\n",
       "    <tr>\n",
       "      <th>0</th>\n",
       "      <td>Rot Donnadd</td>\n",
       "      <td>43</td>\n",
       "      <td>9</td>\n",
       "    </tr>\n",
       "    <tr>\n",
       "      <th>1</th>\n",
       "      <td>Pid Mught</td>\n",
       "      <td>38</td>\n",
       "      <td>7</td>\n",
       "    </tr>\n",
       "    <tr>\n",
       "      <th>2</th>\n",
       "      <td>Thulk Lebbimp</td>\n",
       "      <td>63</td>\n",
       "      <td>10</td>\n",
       "    </tr>\n",
       "    <tr>\n",
       "      <th>3</th>\n",
       "      <td>Bouvossam Damme</td>\n",
       "      <td>71</td>\n",
       "      <td>13</td>\n",
       "    </tr>\n",
       "    <tr>\n",
       "      <th>4</th>\n",
       "      <td>Pirg Zall</td>\n",
       "      <td>48</td>\n",
       "      <td>7</td>\n",
       "    </tr>\n",
       "  </tbody>\n",
       "</table>\n",
       "</div>"
      ],
      "text/plain": [
       "              name  age  days_recovery\n",
       "0      Rot Donnadd   43              9\n",
       "1        Pid Mught   38              7\n",
       "2    Thulk Lebbimp   63             10\n",
       "3  Bouvossam Damme   71             13\n",
       "4        Pirg Zall   48              7"
      ]
     },
     "execution_count": 7,
     "metadata": {},
     "output_type": "execute_result"
    }
   ],
   "source": [
    "# Import Relevant libraries\n",
    "import tensorflow as tf\n",
    "import numpy as np\n",
    "import matplotlib.pyplot as plt\n",
    "import pandas as pd\n",
    "import math\n",
    "\n",
    "df = pd.read_csv(\"zombie-health-age-days-recovery.csv\")\n",
    "df.head()\n"
   ]
  },
  {
   "cell_type": "code",
   "execution_count": 8,
   "metadata": {},
   "outputs": [
    {
     "data": {
      "text/html": [
       "<div>\n",
       "<style scoped>\n",
       "    .dataframe tbody tr th:only-of-type {\n",
       "        vertical-align: middle;\n",
       "    }\n",
       "\n",
       "    .dataframe tbody tr th {\n",
       "        vertical-align: top;\n",
       "    }\n",
       "\n",
       "    .dataframe thead th {\n",
       "        text-align: right;\n",
       "    }\n",
       "</style>\n",
       "<table border=\"1\" class=\"dataframe\">\n",
       "  <thead>\n",
       "    <tr style=\"text-align: right;\">\n",
       "      <th></th>\n",
       "      <th>x</th>\n",
       "      <th>y</th>\n",
       "    </tr>\n",
       "  </thead>\n",
       "  <tbody>\n",
       "    <tr>\n",
       "      <th>0</th>\n",
       "      <td>43</td>\n",
       "      <td>9</td>\n",
       "    </tr>\n",
       "    <tr>\n",
       "      <th>1</th>\n",
       "      <td>38</td>\n",
       "      <td>7</td>\n",
       "    </tr>\n",
       "    <tr>\n",
       "      <th>2</th>\n",
       "      <td>63</td>\n",
       "      <td>10</td>\n",
       "    </tr>\n",
       "    <tr>\n",
       "      <th>3</th>\n",
       "      <td>71</td>\n",
       "      <td>13</td>\n",
       "    </tr>\n",
       "    <tr>\n",
       "      <th>4</th>\n",
       "      <td>48</td>\n",
       "      <td>7</td>\n",
       "    </tr>\n",
       "  </tbody>\n",
       "</table>\n",
       "</div>"
      ],
      "text/plain": [
       "    x   y\n",
       "0  43   9\n",
       "1  38   7\n",
       "2  63  10\n",
       "3  71  13\n",
       "4  48   7"
      ]
     },
     "execution_count": 8,
     "metadata": {},
     "output_type": "execute_result"
    }
   ],
   "source": [
    "df.drop([\"name\"], axis=1, inplace=True)\n",
    "df.columns = [\"x\", \"y\"]\n",
    "df.head()"
   ]
  },
  {
   "cell_type": "code",
   "execution_count": 9,
   "metadata": {},
   "outputs": [
    {
     "data": {
      "text/plain": [
       "<matplotlib.collections.PathCollection at 0x1f4c73a2430>"
      ]
     },
     "execution_count": 9,
     "metadata": {},
     "output_type": "execute_result"
    },
    {
     "data": {
      "image/png": "[encoded data removed]",
      "text/plain": [
       "<Figure size 432x288 with 1 Axes>"
      ]
     },
     "metadata": {
      "needs_background": "light"
     },
     "output_type": "display_data"
    }
   ],
   "source": [
    "\n",
    "# Learning rate\n",
    "learning_rate = 0.0001\n",
    "\n",
    "# Number of loops for training through all your data to update the parameters\n",
    "training_epochs = 10\n",
    "\n",
    "# the training dataset\n",
    "x_train = df[\"x\"]\n",
    "y_train = df[\"y\"]\n",
    "\n",
    "# plot of data\n",
    "plt.scatter(x_train, y_train)"
   ]
  },
  {
   "cell_type": "code",
   "execution_count": 13,
   "metadata": {},
   "outputs": [
    {
     "name": "stdout",
     "output_type": "stream",
     "text": [
      "tf.Tensor(84.35, shape=(), dtype=float32)\n",
      "<tf.Variable 'Variable:0' shape=() dtype=float32, numpy=0.0>\n",
      "<tf.Variable 'Variable:0' shape=() dtype=float32, numpy=0.0>\n",
      "[<tf.Tensor: shape=(), dtype=float32, numpy=-933.4>, <tf.Tensor: shape=(), dtype=float32, numpy=-17.1>]\n",
      "Epoch count 0: Loss value: 84.3499984741211\n",
      "tf.Tensor(20.230959, shape=(), dtype=float32)\n",
      "<tf.Variable 'Variable:0' shape=() dtype=float32, numpy=0.09334>\n",
      "<tf.Variable 'Variable:0' shape=() dtype=float32, numpy=0.00171>\n",
      "[<tf.Tensor: shape=(), dtype=float32, numpy=-440.01843>, <tf.Tensor: shape=(), dtype=float32, numpy=-8.163942>]\n",
      "Epoch count 1: Loss value: 20.230958938598633\n",
      "tf.Tensor(5.9815483, shape=(), dtype=float32)\n",
      "<tf.Variable 'Variable:0' shape=() dtype=float32, numpy=0.13734184>\n",
      "<tf.Variable 'Variable:0' shape=() dtype=float32, numpy=0.002526394>\n",
      "[<tf.Tensor: shape=(), dtype=float32, numpy=-207.4302>, <tf.Tensor: shape=(), dtype=float32, numpy=-3.951333>]\n",
      "Epoch count 2: Loss value: 5.981548309326172\n",
      "tf.Tensor(2.8148441, shape=(), dtype=float32)\n",
      "<tf.Variable 'Variable:0' shape=() dtype=float32, numpy=0.15808487>\n",
      "<tf.Variable 'Variable:0' shape=() dtype=float32, numpy=0.0029215275>\n",
      "[<tf.Tensor: shape=(), dtype=float32, numpy=-97.78418>, <tf.Tensor: shape=(), dtype=float32, numpy=-1.9654353>]\n",
      "Epoch count 3: Loss value: 2.8148441314697266\n",
      "tf.Tensor(2.111094, shape=(), dtype=float32)\n",
      "<tf.Variable 'Variable:0' shape=() dtype=float32, numpy=0.16786328>\n",
      "<tf.Variable 'Variable:0' shape=() dtype=float32, numpy=0.003118071>\n",
      "[<tf.Tensor: shape=(), dtype=float32, numpy=-46.095215>, <tf.Tensor: shape=(), dtype=float32, numpy=-1.0292476>]\n",
      "Epoch count 4: Loss value: 2.1110939979553223\n",
      "tf.Tensor(1.9546934, shape=(), dtype=float32)\n",
      "<tf.Variable 'Variable:0' shape=() dtype=float32, numpy=0.1724728>\n",
      "<tf.Variable 'Variable:0' shape=() dtype=float32, numpy=0.003220996>\n",
      "[<tf.Tensor: shape=(), dtype=float32, numpy=-21.72823>, <tf.Tensor: shape=(), dtype=float32, numpy=-0.587911>]\n",
      "Epoch count 5: Loss value: 1.9546934366226196\n",
      "tf.Tensor(1.9199333, shape=(), dtype=float32)\n",
      "<tf.Variable 'Variable:0' shape=() dtype=float32, numpy=0.17464563>\n",
      "<tf.Variable 'Variable:0' shape=() dtype=float32, numpy=0.003279787>\n",
      "[<tf.Tensor: shape=(), dtype=float32, numpy=-10.241152>, <tf.Tensor: shape=(), dtype=float32, numpy=-0.3798536>]\n",
      "Epoch count 6: Loss value: 1.9199333190917969\n",
      "tf.Tensor(1.9122055, shape=(), dtype=float32)\n",
      "<tf.Variable 'Variable:0' shape=() dtype=float32, numpy=0.17566974>\n",
      "<tf.Variable 'Variable:0' shape=() dtype=float32, numpy=0.0033177724>\n",
      "[<tf.Tensor: shape=(), dtype=float32, numpy=-4.825979>, <tf.Tensor: shape=(), dtype=float32, numpy=-0.28176966>]\n",
      "Epoch count 7: Loss value: 1.912205457687378\n",
      "tf.Tensor(1.9104849, shape=(), dtype=float32)\n",
      "<tf.Variable 'Variable:0' shape=() dtype=float32, numpy=0.17615235>\n",
      "<tf.Variable 'Variable:0' shape=() dtype=float32, numpy=0.0033459493>\n",
      "[<tf.Tensor: shape=(), dtype=float32, numpy=-2.2731962>, <tf.Tensor: shape=(), dtype=float32, numpy=-0.23552875>]\n",
      "Epoch count 8: Loss value: 1.9104849100112915\n",
      "tf.Tensor(1.9100997, shape=(), dtype=float32)\n",
      "<tf.Variable 'Variable:0' shape=() dtype=float32, numpy=0.17637967>\n",
      "<tf.Variable 'Variable:0' shape=() dtype=float32, numpy=0.0033695023>\n",
      "[<tf.Tensor: shape=(), dtype=float32, numpy=-1.0697689>, <tf.Tensor: shape=(), dtype=float32, numpy=-0.2137274>]\n",
      "Epoch count 9: Loss value: 1.910099744796753\n"
     ]
    }
   ],
   "source": [
    "# declare weights\n",
    "weight = tf.Variable(0.)\n",
    "bias = tf.Variable(0.)\n",
    "\n",
    "# Define linear regression expression y\n",
    "def linreg(x):\n",
    "    y = weight*x + bias\n",
    "    return y\n",
    "\n",
    "# Define loss function (MSE)\n",
    "def squared_error(y_pred, y_true):\n",
    "    return tf.reduce_mean(tf.square(y_pred - y_true))\n",
    "\n",
    "# train model\n",
    "for epoch in range(training_epochs):\n",
    "    # Compute loss within Gradient Tape context\n",
    "    with tf.GradientTape() as tape:\n",
    "        y_predicted = linreg(x_train)\n",
    "        loss = squared_error(y_predicted, y_train)\n",
    "        # Get gradients\n",
    "        # print(loss)\n",
    "        # print(weight)\n",
    "        # print(bias)\n",
    "        gradients = tape.gradient(loss, [weight,bias])\n",
    "        # Adjust weights\n",
    "        # print(gradients)\n",
    "        weight.assign_sub(gradients[0]*learning_rate)\n",
    "        bias.assign_sub(gradients[1]*learning_rate)\n",
    "        # Print output\n",
    "        print(f\"Epoch count {epoch}: Loss value: {loss.numpy()}\")\n"
   ]
  },
  {
   "cell_type": "code",
   "execution_count": 11,
   "metadata": {},
   "outputs": [
    {
     "name": "stdout",
     "output_type": "stream",
     "text": [
      "0.17648664\n",
      "0.003390875\n"
     ]
    },
    {
     "data": {
      "image/png": "[encoded data removed]",
      "text/plain": [
       "<Figure size 432x288 with 1 Axes>"
      ]
     },
     "metadata": {
      "needs_background": "light"
     },
     "output_type": "display_data"
    }
   ],
   "source": [
    "print(weight.numpy())\n",
    "print(bias.numpy())\n",
    "plt.scatter(x_train, y_train)\n",
    "plt.plot(x_train, linreg(x_train), 'r')\n",
    "plt.show()"
   ]
  }
 ],
 "metadata": {
  "interpreter": {
   "hash": "63fd5069d213b44bf678585dea6b12cceca9941eaf7f819626cde1f2670de90d"
  },
  "kernelspec": {
   "display_name": "Python 3.9.0 64-bit",
   "language": "python",
   "name": "python3"
  },
  "language_info": {
   "codemirror_mode": {
    "name": "ipython",
    "version": 3
   },
   "file_extension": ".py",
   "mimetype": "text/x-python",
   "name": "python",
   "nbconvert_exporter": "python",
   "pygments_lexer": "ipython3",
   "version": "3.9.0"
  },
  "orig_nbformat": 4
 },
 "nbformat": 4,
 "nbformat_minor": 2
}
